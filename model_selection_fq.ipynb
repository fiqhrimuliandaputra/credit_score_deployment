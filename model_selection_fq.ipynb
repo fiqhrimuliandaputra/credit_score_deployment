{
  "nbformat": 4,
  "nbformat_minor": 0,
  "metadata": {
    "kernelspec": {
      "display_name": ".venv",
      "language": "python",
      "name": ".venv"
    },
    "language_info": {
      "codemirror_mode": {
        "name": "ipython",
        "version": 3
      },
      "file_extension": ".py",
      "mimetype": "text/x-python",
      "name": "python",
      "nbconvert_exporter": "python",
      "pygments_lexer": "ipython3",
      "version": "3.9.6"
    },
    "colab": {
      "name": "model-selection_fq.ipynb",
      "provenance": [],
      "collapsed_sections": [
        "h5JUTmf2po7I",
        "9T1vQS9dpo7L",
        "IaS8ihCapo7L",
        "cgUXHC5lpo7W",
        "Fy6ZRORHpo7Z",
        "okhDbJg6po7l",
        "vkJ-S1xzpo7s",
        "A4f3k_Nspo7w"
      ]
    }
  },
  "cells": [
    {
      "cell_type": "markdown",
      "metadata": {
        "id": "W-vJPB_Spo5N"
      },
      "source": [
        "# Model Selection & Evaluation"
      ]
    },
    {
      "cell_type": "markdown",
      "metadata": {
        "id": "jWxTnbRtpo5f"
      },
      "source": [
        "1. What is model selection?\n",
        "2. Consideration for model selection?\n",
        "3. Model selection techniques  \n",
        "___\n",
        "  \n",
        "  **__what is model selection?__**  \n",
        "  Model selection is the task of selecting a statistical model from a set of candidate models, given data.  \n",
        "  \n",
        "  In the simplest cases, a pre-existing set of data is considered. However, the task can also involve the design of experiments such that the data collected is well-suited to the problem of model selection. \n",
        "  \n",
        "  Model selection is a process that can be applied both: \n",
        "  1. **across different types of models (e.g. logistic regression, SVM, KNN, etc.)** \n",
        "  2. and **across models of the same type configured with different model hyperparameters (e.g. different kernels in an SVM)**.  \n",
        "    \n",
        "___\n",
        "  > When we have a variety of models of different complexity (e.g., linear or logistic regression models with different degree polynomials, or KNN classifiers with different values of K), how should we pick the right one? .  \n",
        "  [page 22 - Machine Learning - Probabilistic Prespective](https://www.amazon.com/Machine-Learning-Probabilistic-Perspective-Computation/dp/0262018020/ref=as_li_ss_tl?keywords=Machine+Learning+-+A+Probabilistic+Perspective&qid=1568233495&s=gateway&sr=8-1&linkCode=sl1&tag=inspiredalgor-20&linkId=36f0b3ee1e8fd4b4a723f96894af54a5&language=en_US)  \n",
        "  \n",
        "  **Consideration for model selection**. \n",
        "  1. The accuracy of the model.  \n",
        "  2. The interpretability of the model.  \n",
        "  3. The complexity of the model.  \n",
        "  4. The scalability of the model.  \n",
        "  5. How long does it take to build, train, and test the model?  \n",
        "  6. How long does it take to make predictions using the model?  \n",
        "  7.Does the model meet the business goal?  \n",
        "  \n",
        "  \n",
        "  Some algorithms require specialized data preparation in order to best expose the structure of the problem to the learning algorithm. Therefore, we must go one step further and consider model selection as the process of selecting among model development pipelines.\n",
        "\n",
        "Each pipeline may take in the same raw training dataset and outputs a model that can be evaluated in the same manner but may require different or overlapping computational steps, such as:\n",
        "\n",
        "Data filtering.\n",
        "Data transformation.\n",
        "Feature selection.\n",
        "Feature engineering.\n",
        "And more…  \n",
        "\n",
        "\n",
        "  **Model Selection Techniques**. \n",
        "  1. Probabilistic Measures: Choose a model via **in-sample error and complexity**.\n",
        "  2. Resampling Methods: Choose a model via **estimated out-of-sample error**.\n"
      ]
    },
    {
      "cell_type": "markdown",
      "metadata": {
        "id": "vysBvceepo5m"
      },
      "source": [
        "## Resampling Method: Train, Valid, Test"
      ]
    },
    {
      "cell_type": "markdown",
      "metadata": {
        "id": "v1EjERykpo5o"
      },
      "source": [
        "Describe more  \n",
        "\n",
        "1. Splitting Data: Train, Valid, Test  \n",
        "    a. Random sample  \n",
        "    b. Stratified sample.  \n",
        "2. Cross-Validation.  \n",
        "    a. K-fold.  \n",
        "    b. Stratified K-fold.  \n",
        "    c. LOOCV - Leave One Out Cross Validated"
      ]
    },
    {
      "cell_type": "markdown",
      "metadata": {
        "id": "DG2n10i0po5r"
      },
      "source": [
        "# Load Dataset"
      ]
    },
    {
      "cell_type": "markdown",
      "metadata": {
        "id": "7xOpjyMmpo5v"
      },
      "source": [
        "1. Load Data\n",
        "2. Check your data: data types, missing data\n",
        "3. Check simple statistic from your data\n",
        "4. Let's think what tools that we will try. Data Preprocessing Pla, Model Plan"
      ]
    },
    {
      "cell_type": "code",
      "metadata": {
        "id": "LeRgoeW0po5y"
      },
      "source": [
        "import numpy as np\n",
        "import pandas as pd  # import pandas for data manipulation\n",
        "pd.options.display.max_columns = None  # set options max_columns to None to display all columns\n",
        "\n",
        "data = pd.read_csv('/content/credit_risk_dataset.csv')"
      ],
      "execution_count": null,
      "outputs": []
    },
    {
      "cell_type": "code",
      "metadata": {
        "colab": {
          "base_uri": "https://localhost:8080/",
          "height": 224
        },
        "id": "gMG92VYrpo55",
        "outputId": "c2de5f08-a688-4ece-e738-7cefc200f759"
      },
      "source": [
        "data.head()"
      ],
      "execution_count": null,
      "outputs": [
        {
          "output_type": "execute_result",
          "data": {
            "text/html": [
              "<div>\n",
              "<style scoped>\n",
              "    .dataframe tbody tr th:only-of-type {\n",
              "        vertical-align: middle;\n",
              "    }\n",
              "\n",
              "    .dataframe tbody tr th {\n",
              "        vertical-align: top;\n",
              "    }\n",
              "\n",
              "    .dataframe thead th {\n",
              "        text-align: right;\n",
              "    }\n",
              "</style>\n",
              "<table border=\"1\" class=\"dataframe\">\n",
              "  <thead>\n",
              "    <tr style=\"text-align: right;\">\n",
              "      <th></th>\n",
              "      <th>person_age</th>\n",
              "      <th>person_income</th>\n",
              "      <th>person_home_ownership</th>\n",
              "      <th>person_emp_length</th>\n",
              "      <th>loan_intent</th>\n",
              "      <th>loan_grade</th>\n",
              "      <th>loan_amnt</th>\n",
              "      <th>loan_int_rate</th>\n",
              "      <th>loan_status</th>\n",
              "      <th>loan_percent_income</th>\n",
              "      <th>cb_person_default_on_file</th>\n",
              "      <th>cb_person_cred_hist_length</th>\n",
              "    </tr>\n",
              "  </thead>\n",
              "  <tbody>\n",
              "    <tr>\n",
              "      <th>0</th>\n",
              "      <td>22</td>\n",
              "      <td>59000</td>\n",
              "      <td>RENT</td>\n",
              "      <td>123.0</td>\n",
              "      <td>PERSONAL</td>\n",
              "      <td>D</td>\n",
              "      <td>35000</td>\n",
              "      <td>16.02</td>\n",
              "      <td>1</td>\n",
              "      <td>0.59</td>\n",
              "      <td>Y</td>\n",
              "      <td>3</td>\n",
              "    </tr>\n",
              "    <tr>\n",
              "      <th>1</th>\n",
              "      <td>21</td>\n",
              "      <td>9600</td>\n",
              "      <td>OWN</td>\n",
              "      <td>5.0</td>\n",
              "      <td>EDUCATION</td>\n",
              "      <td>B</td>\n",
              "      <td>1000</td>\n",
              "      <td>11.14</td>\n",
              "      <td>0</td>\n",
              "      <td>0.10</td>\n",
              "      <td>N</td>\n",
              "      <td>2</td>\n",
              "    </tr>\n",
              "    <tr>\n",
              "      <th>2</th>\n",
              "      <td>25</td>\n",
              "      <td>9600</td>\n",
              "      <td>MORTGAGE</td>\n",
              "      <td>1.0</td>\n",
              "      <td>MEDICAL</td>\n",
              "      <td>C</td>\n",
              "      <td>5500</td>\n",
              "      <td>12.87</td>\n",
              "      <td>1</td>\n",
              "      <td>0.57</td>\n",
              "      <td>N</td>\n",
              "      <td>3</td>\n",
              "    </tr>\n",
              "    <tr>\n",
              "      <th>3</th>\n",
              "      <td>23</td>\n",
              "      <td>65500</td>\n",
              "      <td>RENT</td>\n",
              "      <td>4.0</td>\n",
              "      <td>MEDICAL</td>\n",
              "      <td>C</td>\n",
              "      <td>35000</td>\n",
              "      <td>15.23</td>\n",
              "      <td>1</td>\n",
              "      <td>0.53</td>\n",
              "      <td>N</td>\n",
              "      <td>2</td>\n",
              "    </tr>\n",
              "    <tr>\n",
              "      <th>4</th>\n",
              "      <td>24</td>\n",
              "      <td>54400</td>\n",
              "      <td>RENT</td>\n",
              "      <td>8.0</td>\n",
              "      <td>MEDICAL</td>\n",
              "      <td>C</td>\n",
              "      <td>35000</td>\n",
              "      <td>14.27</td>\n",
              "      <td>1</td>\n",
              "      <td>0.55</td>\n",
              "      <td>Y</td>\n",
              "      <td>4</td>\n",
              "    </tr>\n",
              "  </tbody>\n",
              "</table>\n",
              "</div>"
            ],
            "text/plain": [
              "   person_age  person_income person_home_ownership  person_emp_length  \\\n",
              "0          22          59000                  RENT              123.0   \n",
              "1          21           9600                   OWN                5.0   \n",
              "2          25           9600              MORTGAGE                1.0   \n",
              "3          23          65500                  RENT                4.0   \n",
              "4          24          54400                  RENT                8.0   \n",
              "\n",
              "  loan_intent loan_grade  loan_amnt  loan_int_rate  loan_status  \\\n",
              "0    PERSONAL          D      35000          16.02            1   \n",
              "1   EDUCATION          B       1000          11.14            0   \n",
              "2     MEDICAL          C       5500          12.87            1   \n",
              "3     MEDICAL          C      35000          15.23            1   \n",
              "4     MEDICAL          C      35000          14.27            1   \n",
              "\n",
              "   loan_percent_income cb_person_default_on_file  cb_person_cred_hist_length  \n",
              "0                 0.59                         Y                           3  \n",
              "1                 0.10                         N                           2  \n",
              "2                 0.57                         N                           3  \n",
              "3                 0.53                         N                           2  \n",
              "4                 0.55                         Y                           4  "
            ]
          },
          "metadata": {},
          "execution_count": 2
        }
      ]
    },
    {
      "cell_type": "code",
      "metadata": {
        "colab": {
          "base_uri": "https://localhost:8080/"
        },
        "id": "CF8m01g2po5_",
        "outputId": "807401c9-e2b2-4aaa-c83a-4c1446ef7dcf"
      },
      "source": [
        "data.shape"
      ],
      "execution_count": null,
      "outputs": [
        {
          "output_type": "execute_result",
          "data": {
            "text/plain": [
              "(32581, 12)"
            ]
          },
          "metadata": {},
          "execution_count": 3
        }
      ]
    },
    {
      "cell_type": "code",
      "metadata": {
        "colab": {
          "base_uri": "https://localhost:8080/"
        },
        "id": "bihDBQehpo6C",
        "outputId": "c6474c73-9c1d-4846-dbb3-59f59e6f2004"
      },
      "source": [
        "data.dtypes"
      ],
      "execution_count": null,
      "outputs": [
        {
          "output_type": "execute_result",
          "data": {
            "text/plain": [
              "person_age                      int64\n",
              "person_income                   int64\n",
              "person_home_ownership          object\n",
              "person_emp_length             float64\n",
              "loan_intent                    object\n",
              "loan_grade                     object\n",
              "loan_amnt                       int64\n",
              "loan_int_rate                 float64\n",
              "loan_status                     int64\n",
              "loan_percent_income           float64\n",
              "cb_person_default_on_file      object\n",
              "cb_person_cred_hist_length      int64\n",
              "dtype: object"
            ]
          },
          "metadata": {},
          "execution_count": 4
        }
      ]
    },
    {
      "cell_type": "code",
      "metadata": {
        "id": "rEbWxIB9po6E"
      },
      "source": [
        "y = data['loan_status'].copy()\n",
        "X = data.drop(columns='loan_status').copy()"
      ],
      "execution_count": null,
      "outputs": []
    },
    {
      "cell_type": "code",
      "metadata": {
        "colab": {
          "base_uri": "https://localhost:8080/"
        },
        "id": "Ki1f7HRUpo6H",
        "outputId": "703587f5-dd18-4f2a-bcd4-ee9a34ba0674"
      },
      "source": [
        "num_columns = X.select_dtypes(include='number').columns.tolist()\n",
        "cat_columns = X.select_dtypes(include='object').columns.tolist()\n",
        "\n",
        "print(\"Total numerical columns :\", len(num_columns))\n",
        "print(\"Total categorical columns :\", len(cat_columns))"
      ],
      "execution_count": null,
      "outputs": [
        {
          "output_type": "stream",
          "name": "stdout",
          "text": [
            "Total numerical columns : 7\n",
            "Total categorical columns : 4\n"
          ]
        }
      ]
    },
    {
      "cell_type": "code",
      "metadata": {
        "id": "FuhJSUCEpo6K"
      },
      "source": [
        "num_idx = [X.columns.get_loc(c) for c in num_columns]\n",
        "cat_idx = [X.columns.get_loc(c) for c in cat_columns]"
      ],
      "execution_count": null,
      "outputs": []
    },
    {
      "cell_type": "code",
      "metadata": {
        "colab": {
          "base_uri": "https://localhost:8080/"
        },
        "id": "G_N3TC2epo6N",
        "outputId": "a208b734-e213-4c2d-ad92-19fd1ac73bfc"
      },
      "source": [
        "X.columns[num_idx]"
      ],
      "execution_count": null,
      "outputs": [
        {
          "output_type": "execute_result",
          "data": {
            "text/plain": [
              "Index(['person_age', 'person_income', 'person_emp_length', 'loan_amnt',\n",
              "       'loan_int_rate', 'loan_percent_income', 'cb_person_cred_hist_length'],\n",
              "      dtype='object')"
            ]
          },
          "metadata": {},
          "execution_count": 8
        }
      ]
    },
    {
      "cell_type": "code",
      "metadata": {
        "colab": {
          "base_uri": "https://localhost:8080/"
        },
        "id": "0TRAKoEtpo6P",
        "outputId": "fa05cc4b-0d57-443f-d979-a9f07b911ba1"
      },
      "source": [
        "X.columns[cat_idx]"
      ],
      "execution_count": null,
      "outputs": [
        {
          "output_type": "execute_result",
          "data": {
            "text/plain": [
              "Index(['person_home_ownership', 'loan_intent', 'loan_grade',\n",
              "       'cb_person_default_on_file'],\n",
              "      dtype='object')"
            ]
          },
          "metadata": {},
          "execution_count": 9
        }
      ]
    },
    {
      "cell_type": "code",
      "metadata": {
        "colab": {
          "base_uri": "https://localhost:8080/"
        },
        "id": "2E1a4X3jpo6Q",
        "outputId": "27389400-7dbd-43d3-bef2-b59ce79533c7"
      },
      "source": [
        "for col in cat_columns + ['person_age']:\n",
        "    print(f\"{col:<20}: {data[col].unique().tolist()}\")"
      ],
      "execution_count": null,
      "outputs": [
        {
          "output_type": "stream",
          "name": "stdout",
          "text": [
            "person_home_ownership: ['RENT', 'OWN', 'MORTGAGE', 'OTHER']\n",
            "loan_intent         : ['PERSONAL', 'EDUCATION', 'MEDICAL', 'VENTURE', 'HOMEIMPROVEMENT', 'DEBTCONSOLIDATION']\n",
            "loan_grade          : ['D', 'B', 'C', 'A', 'E', 'F', 'G']\n",
            "cb_person_default_on_file: ['Y', 'N']\n",
            "person_age          : [22, 21, 25, 23, 24, 26, 144, 123, 20, 32, 34, 29, 33, 28, 35, 31, 27, 30, 36, 40, 50, 45, 37, 39, 44, 43, 41, 46, 38, 47, 42, 48, 49, 58, 65, 51, 53, 66, 61, 54, 57, 59, 62, 60, 55, 52, 64, 70, 78, 69, 56, 73, 63, 94, 80, 84, 76, 67]\n"
          ]
        }
      ]
    },
    {
      "cell_type": "markdown",
      "metadata": {
        "id": "r97GLpoBpo6S"
      },
      "source": [
        "### Simple Statistics"
      ]
    },
    {
      "cell_type": "code",
      "metadata": {
        "colab": {
          "base_uri": "https://localhost:8080/",
          "height": 266
        },
        "id": "5p8TprZjpo6T",
        "outputId": "5371ce32-22f1-4b04-e61b-eed11abe56ff"
      },
      "source": [
        "X.describe(include='number').T"
      ],
      "execution_count": null,
      "outputs": [
        {
          "output_type": "execute_result",
          "data": {
            "text/html": [
              "<div>\n",
              "<style scoped>\n",
              "    .dataframe tbody tr th:only-of-type {\n",
              "        vertical-align: middle;\n",
              "    }\n",
              "\n",
              "    .dataframe tbody tr th {\n",
              "        vertical-align: top;\n",
              "    }\n",
              "\n",
              "    .dataframe thead th {\n",
              "        text-align: right;\n",
              "    }\n",
              "</style>\n",
              "<table border=\"1\" class=\"dataframe\">\n",
              "  <thead>\n",
              "    <tr style=\"text-align: right;\">\n",
              "      <th></th>\n",
              "      <th>count</th>\n",
              "      <th>mean</th>\n",
              "      <th>std</th>\n",
              "      <th>min</th>\n",
              "      <th>25%</th>\n",
              "      <th>50%</th>\n",
              "      <th>75%</th>\n",
              "      <th>max</th>\n",
              "    </tr>\n",
              "  </thead>\n",
              "  <tbody>\n",
              "    <tr>\n",
              "      <th>person_age</th>\n",
              "      <td>32581.0</td>\n",
              "      <td>27.734600</td>\n",
              "      <td>6.348078</td>\n",
              "      <td>20.00</td>\n",
              "      <td>23.00</td>\n",
              "      <td>26.00</td>\n",
              "      <td>30.00</td>\n",
              "      <td>144.00</td>\n",
              "    </tr>\n",
              "    <tr>\n",
              "      <th>person_income</th>\n",
              "      <td>32581.0</td>\n",
              "      <td>66074.848470</td>\n",
              "      <td>61983.119168</td>\n",
              "      <td>4000.00</td>\n",
              "      <td>38500.00</td>\n",
              "      <td>55000.00</td>\n",
              "      <td>79200.00</td>\n",
              "      <td>6000000.00</td>\n",
              "    </tr>\n",
              "    <tr>\n",
              "      <th>person_emp_length</th>\n",
              "      <td>31686.0</td>\n",
              "      <td>4.789686</td>\n",
              "      <td>4.142630</td>\n",
              "      <td>0.00</td>\n",
              "      <td>2.00</td>\n",
              "      <td>4.00</td>\n",
              "      <td>7.00</td>\n",
              "      <td>123.00</td>\n",
              "    </tr>\n",
              "    <tr>\n",
              "      <th>loan_amnt</th>\n",
              "      <td>32581.0</td>\n",
              "      <td>9589.371106</td>\n",
              "      <td>6322.086646</td>\n",
              "      <td>500.00</td>\n",
              "      <td>5000.00</td>\n",
              "      <td>8000.00</td>\n",
              "      <td>12200.00</td>\n",
              "      <td>35000.00</td>\n",
              "    </tr>\n",
              "    <tr>\n",
              "      <th>loan_int_rate</th>\n",
              "      <td>29465.0</td>\n",
              "      <td>11.011695</td>\n",
              "      <td>3.240459</td>\n",
              "      <td>5.42</td>\n",
              "      <td>7.90</td>\n",
              "      <td>10.99</td>\n",
              "      <td>13.47</td>\n",
              "      <td>23.22</td>\n",
              "    </tr>\n",
              "    <tr>\n",
              "      <th>loan_percent_income</th>\n",
              "      <td>32581.0</td>\n",
              "      <td>0.170203</td>\n",
              "      <td>0.106782</td>\n",
              "      <td>0.00</td>\n",
              "      <td>0.09</td>\n",
              "      <td>0.15</td>\n",
              "      <td>0.23</td>\n",
              "      <td>0.83</td>\n",
              "    </tr>\n",
              "    <tr>\n",
              "      <th>cb_person_cred_hist_length</th>\n",
              "      <td>32581.0</td>\n",
              "      <td>5.804211</td>\n",
              "      <td>4.055001</td>\n",
              "      <td>2.00</td>\n",
              "      <td>3.00</td>\n",
              "      <td>4.00</td>\n",
              "      <td>8.00</td>\n",
              "      <td>30.00</td>\n",
              "    </tr>\n",
              "  </tbody>\n",
              "</table>\n",
              "</div>"
            ],
            "text/plain": [
              "                              count          mean           std      min  \\\n",
              "person_age                  32581.0     27.734600      6.348078    20.00   \n",
              "person_income               32581.0  66074.848470  61983.119168  4000.00   \n",
              "person_emp_length           31686.0      4.789686      4.142630     0.00   \n",
              "loan_amnt                   32581.0   9589.371106   6322.086646   500.00   \n",
              "loan_int_rate               29465.0     11.011695      3.240459     5.42   \n",
              "loan_percent_income         32581.0      0.170203      0.106782     0.00   \n",
              "cb_person_cred_hist_length  32581.0      5.804211      4.055001     2.00   \n",
              "\n",
              "                                 25%       50%       75%         max  \n",
              "person_age                     23.00     26.00     30.00      144.00  \n",
              "person_income               38500.00  55000.00  79200.00  6000000.00  \n",
              "person_emp_length               2.00      4.00      7.00      123.00  \n",
              "loan_amnt                    5000.00   8000.00  12200.00    35000.00  \n",
              "loan_int_rate                   7.90     10.99     13.47       23.22  \n",
              "loan_percent_income             0.09      0.15      0.23        0.83  \n",
              "cb_person_cred_hist_length      3.00      4.00      8.00       30.00  "
            ]
          },
          "metadata": {},
          "execution_count": 11
        }
      ]
    },
    {
      "cell_type": "code",
      "metadata": {
        "colab": {
          "base_uri": "https://localhost:8080/",
          "height": 173
        },
        "id": "PD2nXkCVpo6U",
        "outputId": "9d273d0f-a24d-4e66-bb83-6de351c40853"
      },
      "source": [
        "X.describe(include='object').T"
      ],
      "execution_count": null,
      "outputs": [
        {
          "output_type": "execute_result",
          "data": {
            "text/html": [
              "<div>\n",
              "<style scoped>\n",
              "    .dataframe tbody tr th:only-of-type {\n",
              "        vertical-align: middle;\n",
              "    }\n",
              "\n",
              "    .dataframe tbody tr th {\n",
              "        vertical-align: top;\n",
              "    }\n",
              "\n",
              "    .dataframe thead th {\n",
              "        text-align: right;\n",
              "    }\n",
              "</style>\n",
              "<table border=\"1\" class=\"dataframe\">\n",
              "  <thead>\n",
              "    <tr style=\"text-align: right;\">\n",
              "      <th></th>\n",
              "      <th>count</th>\n",
              "      <th>unique</th>\n",
              "      <th>top</th>\n",
              "      <th>freq</th>\n",
              "    </tr>\n",
              "  </thead>\n",
              "  <tbody>\n",
              "    <tr>\n",
              "      <th>person_home_ownership</th>\n",
              "      <td>32581</td>\n",
              "      <td>4</td>\n",
              "      <td>RENT</td>\n",
              "      <td>16446</td>\n",
              "    </tr>\n",
              "    <tr>\n",
              "      <th>loan_intent</th>\n",
              "      <td>32581</td>\n",
              "      <td>6</td>\n",
              "      <td>EDUCATION</td>\n",
              "      <td>6453</td>\n",
              "    </tr>\n",
              "    <tr>\n",
              "      <th>loan_grade</th>\n",
              "      <td>32581</td>\n",
              "      <td>7</td>\n",
              "      <td>A</td>\n",
              "      <td>10777</td>\n",
              "    </tr>\n",
              "    <tr>\n",
              "      <th>cb_person_default_on_file</th>\n",
              "      <td>32581</td>\n",
              "      <td>2</td>\n",
              "      <td>N</td>\n",
              "      <td>26836</td>\n",
              "    </tr>\n",
              "  </tbody>\n",
              "</table>\n",
              "</div>"
            ],
            "text/plain": [
              "                           count unique        top   freq\n",
              "person_home_ownership      32581      4       RENT  16446\n",
              "loan_intent                32581      6  EDUCATION   6453\n",
              "loan_grade                 32581      7          A  10777\n",
              "cb_person_default_on_file  32581      2          N  26836"
            ]
          },
          "metadata": {},
          "execution_count": 12
        }
      ]
    },
    {
      "cell_type": "code",
      "metadata": {
        "colab": {
          "base_uri": "https://localhost:8080/"
        },
        "id": "3jPmOvsvpo6W",
        "outputId": "1db37473-2bc5-4a68-c67c-3e1c0f218060"
      },
      "source": [
        "y.value_counts()"
      ],
      "execution_count": null,
      "outputs": [
        {
          "output_type": "execute_result",
          "data": {
            "text/plain": [
              "0    25473\n",
              "1     7108\n",
              "Name: loan_status, dtype: int64"
            ]
          },
          "metadata": {},
          "execution_count": 13
        }
      ]
    },
    {
      "cell_type": "markdown",
      "metadata": {
        "id": "UAR5yVdPpo6Y"
      },
      "source": [
        "### Check missing value"
      ]
    },
    {
      "cell_type": "code",
      "metadata": {
        "scrolled": true,
        "colab": {
          "base_uri": "https://localhost:8080/"
        },
        "id": "LdqfV3O_po6Z",
        "outputId": "2c798250-b204-463b-8cfb-f46115e4ca38"
      },
      "source": [
        "X.isnull().sum()"
      ],
      "execution_count": null,
      "outputs": [
        {
          "output_type": "execute_result",
          "data": {
            "text/plain": [
              "person_age                       0\n",
              "person_income                    0\n",
              "person_home_ownership            0\n",
              "person_emp_length              895\n",
              "loan_intent                      0\n",
              "loan_grade                       0\n",
              "loan_amnt                        0\n",
              "loan_int_rate                 3116\n",
              "loan_percent_income              0\n",
              "cb_person_default_on_file        0\n",
              "cb_person_cred_hist_length       0\n",
              "dtype: int64"
            ]
          },
          "metadata": {},
          "execution_count": 14
        }
      ]
    },
    {
      "cell_type": "code",
      "metadata": {
        "colab": {
          "base_uri": "https://localhost:8080/"
        },
        "id": "aIImKE_4po6b",
        "outputId": "b9e1b284-971d-447e-b937-a98f8e1024c8"
      },
      "source": [
        "y"
      ],
      "execution_count": null,
      "outputs": [
        {
          "output_type": "execute_result",
          "data": {
            "text/plain": [
              "0        1\n",
              "1        0\n",
              "2        1\n",
              "3        1\n",
              "4        1\n",
              "        ..\n",
              "32576    0\n",
              "32577    0\n",
              "32578    1\n",
              "32579    0\n",
              "32580    0\n",
              "Name: loan_status, Length: 32581, dtype: int64"
            ]
          },
          "metadata": {},
          "execution_count": 15
        }
      ]
    },
    {
      "cell_type": "markdown",
      "metadata": {
        "id": "KZVNtMGxsxyo"
      },
      "source": [
        "## Cek Duplicate\n"
      ]
    },
    {
      "cell_type": "code",
      "metadata": {
        "colab": {
          "base_uri": "https://localhost:8080/",
          "height": 440
        },
        "id": "kw6DlHwrrnX8",
        "outputId": "fad0b912-17fe-4c58-d4e2-367ff5d15458"
      },
      "source": [
        "# sanity check  -> kalo disini ngecek duplicate aja\n",
        "data[data.duplicated()]\n",
        "# gak ada yg duplicate"
      ],
      "execution_count": null,
      "outputs": [
        {
          "output_type": "execute_result",
          "data": {
            "text/html": [
              "<div>\n",
              "<style scoped>\n",
              "    .dataframe tbody tr th:only-of-type {\n",
              "        vertical-align: middle;\n",
              "    }\n",
              "\n",
              "    .dataframe tbody tr th {\n",
              "        vertical-align: top;\n",
              "    }\n",
              "\n",
              "    .dataframe thead th {\n",
              "        text-align: right;\n",
              "    }\n",
              "</style>\n",
              "<table border=\"1\" class=\"dataframe\">\n",
              "  <thead>\n",
              "    <tr style=\"text-align: right;\">\n",
              "      <th></th>\n",
              "      <th>person_age</th>\n",
              "      <th>person_income</th>\n",
              "      <th>person_home_ownership</th>\n",
              "      <th>person_emp_length</th>\n",
              "      <th>loan_intent</th>\n",
              "      <th>loan_grade</th>\n",
              "      <th>loan_amnt</th>\n",
              "      <th>loan_int_rate</th>\n",
              "      <th>loan_status</th>\n",
              "      <th>loan_percent_income</th>\n",
              "      <th>cb_person_default_on_file</th>\n",
              "      <th>cb_person_cred_hist_length</th>\n",
              "    </tr>\n",
              "  </thead>\n",
              "  <tbody>\n",
              "    <tr>\n",
              "      <th>15975</th>\n",
              "      <td>23</td>\n",
              "      <td>42000</td>\n",
              "      <td>RENT</td>\n",
              "      <td>5.0</td>\n",
              "      <td>VENTURE</td>\n",
              "      <td>B</td>\n",
              "      <td>6000</td>\n",
              "      <td>9.99</td>\n",
              "      <td>0</td>\n",
              "      <td>0.14</td>\n",
              "      <td>N</td>\n",
              "      <td>4</td>\n",
              "    </tr>\n",
              "    <tr>\n",
              "      <th>15989</th>\n",
              "      <td>23</td>\n",
              "      <td>90000</td>\n",
              "      <td>MORTGAGE</td>\n",
              "      <td>7.0</td>\n",
              "      <td>EDUCATION</td>\n",
              "      <td>B</td>\n",
              "      <td>8000</td>\n",
              "      <td>10.36</td>\n",
              "      <td>0</td>\n",
              "      <td>0.09</td>\n",
              "      <td>N</td>\n",
              "      <td>3</td>\n",
              "    </tr>\n",
              "    <tr>\n",
              "      <th>15995</th>\n",
              "      <td>24</td>\n",
              "      <td>48000</td>\n",
              "      <td>MORTGAGE</td>\n",
              "      <td>4.0</td>\n",
              "      <td>MEDICAL</td>\n",
              "      <td>A</td>\n",
              "      <td>4000</td>\n",
              "      <td>5.42</td>\n",
              "      <td>0</td>\n",
              "      <td>0.08</td>\n",
              "      <td>N</td>\n",
              "      <td>4</td>\n",
              "    </tr>\n",
              "    <tr>\n",
              "      <th>16025</th>\n",
              "      <td>24</td>\n",
              "      <td>10000</td>\n",
              "      <td>RENT</td>\n",
              "      <td>8.0</td>\n",
              "      <td>PERSONAL</td>\n",
              "      <td>A</td>\n",
              "      <td>3000</td>\n",
              "      <td>7.90</td>\n",
              "      <td>1</td>\n",
              "      <td>0.30</td>\n",
              "      <td>N</td>\n",
              "      <td>3</td>\n",
              "    </tr>\n",
              "    <tr>\n",
              "      <th>16028</th>\n",
              "      <td>23</td>\n",
              "      <td>100000</td>\n",
              "      <td>MORTGAGE</td>\n",
              "      <td>7.0</td>\n",
              "      <td>EDUCATION</td>\n",
              "      <td>A</td>\n",
              "      <td>15000</td>\n",
              "      <td>7.88</td>\n",
              "      <td>0</td>\n",
              "      <td>0.15</td>\n",
              "      <td>N</td>\n",
              "      <td>4</td>\n",
              "    </tr>\n",
              "    <tr>\n",
              "      <th>...</th>\n",
              "      <td>...</td>\n",
              "      <td>...</td>\n",
              "      <td>...</td>\n",
              "      <td>...</td>\n",
              "      <td>...</td>\n",
              "      <td>...</td>\n",
              "      <td>...</td>\n",
              "      <td>...</td>\n",
              "      <td>...</td>\n",
              "      <td>...</td>\n",
              "      <td>...</td>\n",
              "      <td>...</td>\n",
              "    </tr>\n",
              "    <tr>\n",
              "      <th>32010</th>\n",
              "      <td>42</td>\n",
              "      <td>39996</td>\n",
              "      <td>MORTGAGE</td>\n",
              "      <td>2.0</td>\n",
              "      <td>HOMEIMPROVEMENT</td>\n",
              "      <td>A</td>\n",
              "      <td>2500</td>\n",
              "      <td>5.42</td>\n",
              "      <td>0</td>\n",
              "      <td>0.06</td>\n",
              "      <td>N</td>\n",
              "      <td>12</td>\n",
              "    </tr>\n",
              "    <tr>\n",
              "      <th>32047</th>\n",
              "      <td>36</td>\n",
              "      <td>250000</td>\n",
              "      <td>RENT</td>\n",
              "      <td>2.0</td>\n",
              "      <td>DEBTCONSOLIDATION</td>\n",
              "      <td>A</td>\n",
              "      <td>20000</td>\n",
              "      <td>7.88</td>\n",
              "      <td>0</td>\n",
              "      <td>0.08</td>\n",
              "      <td>N</td>\n",
              "      <td>17</td>\n",
              "    </tr>\n",
              "    <tr>\n",
              "      <th>32172</th>\n",
              "      <td>49</td>\n",
              "      <td>120000</td>\n",
              "      <td>MORTGAGE</td>\n",
              "      <td>12.0</td>\n",
              "      <td>MEDICAL</td>\n",
              "      <td>B</td>\n",
              "      <td>12000</td>\n",
              "      <td>10.99</td>\n",
              "      <td>0</td>\n",
              "      <td>0.10</td>\n",
              "      <td>N</td>\n",
              "      <td>12</td>\n",
              "    </tr>\n",
              "    <tr>\n",
              "      <th>32259</th>\n",
              "      <td>39</td>\n",
              "      <td>40000</td>\n",
              "      <td>OWN</td>\n",
              "      <td>4.0</td>\n",
              "      <td>VENTURE</td>\n",
              "      <td>B</td>\n",
              "      <td>1000</td>\n",
              "      <td>10.37</td>\n",
              "      <td>0</td>\n",
              "      <td>0.03</td>\n",
              "      <td>N</td>\n",
              "      <td>16</td>\n",
              "    </tr>\n",
              "    <tr>\n",
              "      <th>32279</th>\n",
              "      <td>43</td>\n",
              "      <td>11340</td>\n",
              "      <td>RENT</td>\n",
              "      <td>4.0</td>\n",
              "      <td>EDUCATION</td>\n",
              "      <td>C</td>\n",
              "      <td>1950</td>\n",
              "      <td>NaN</td>\n",
              "      <td>1</td>\n",
              "      <td>0.17</td>\n",
              "      <td>N</td>\n",
              "      <td>11</td>\n",
              "    </tr>\n",
              "  </tbody>\n",
              "</table>\n",
              "<p>165 rows × 12 columns</p>\n",
              "</div>"
            ],
            "text/plain": [
              "       person_age  person_income person_home_ownership  person_emp_length  \\\n",
              "15975          23          42000                  RENT                5.0   \n",
              "15989          23          90000              MORTGAGE                7.0   \n",
              "15995          24          48000              MORTGAGE                4.0   \n",
              "16025          24          10000                  RENT                8.0   \n",
              "16028          23         100000              MORTGAGE                7.0   \n",
              "...           ...            ...                   ...                ...   \n",
              "32010          42          39996              MORTGAGE                2.0   \n",
              "32047          36         250000                  RENT                2.0   \n",
              "32172          49         120000              MORTGAGE               12.0   \n",
              "32259          39          40000                   OWN                4.0   \n",
              "32279          43          11340                  RENT                4.0   \n",
              "\n",
              "             loan_intent loan_grade  loan_amnt  loan_int_rate  loan_status  \\\n",
              "15975            VENTURE          B       6000           9.99            0   \n",
              "15989          EDUCATION          B       8000          10.36            0   \n",
              "15995            MEDICAL          A       4000           5.42            0   \n",
              "16025           PERSONAL          A       3000           7.90            1   \n",
              "16028          EDUCATION          A      15000           7.88            0   \n",
              "...                  ...        ...        ...            ...          ...   \n",
              "32010    HOMEIMPROVEMENT          A       2500           5.42            0   \n",
              "32047  DEBTCONSOLIDATION          A      20000           7.88            0   \n",
              "32172            MEDICAL          B      12000          10.99            0   \n",
              "32259            VENTURE          B       1000          10.37            0   \n",
              "32279          EDUCATION          C       1950            NaN            1   \n",
              "\n",
              "       loan_percent_income cb_person_default_on_file  \\\n",
              "15975                 0.14                         N   \n",
              "15989                 0.09                         N   \n",
              "15995                 0.08                         N   \n",
              "16025                 0.30                         N   \n",
              "16028                 0.15                         N   \n",
              "...                    ...                       ...   \n",
              "32010                 0.06                         N   \n",
              "32047                 0.08                         N   \n",
              "32172                 0.10                         N   \n",
              "32259                 0.03                         N   \n",
              "32279                 0.17                         N   \n",
              "\n",
              "       cb_person_cred_hist_length  \n",
              "15975                           4  \n",
              "15989                           3  \n",
              "15995                           4  \n",
              "16025                           3  \n",
              "16028                           4  \n",
              "...                           ...  \n",
              "32010                          12  \n",
              "32047                          17  \n",
              "32172                          12  \n",
              "32259                          16  \n",
              "32279                          11  \n",
              "\n",
              "[165 rows x 12 columns]"
            ]
          },
          "metadata": {},
          "execution_count": 16
        }
      ]
    },
    {
      "cell_type": "code",
      "metadata": {
        "id": "tbh3iTxGs-_R"
      },
      "source": [
        "data = data[~data.duplicated(keep='first')]"
      ],
      "execution_count": null,
      "outputs": []
    },
    {
      "cell_type": "code",
      "metadata": {
        "colab": {
          "base_uri": "https://localhost:8080/",
          "height": 69
        },
        "id": "MXJ9GUk1tBDy",
        "outputId": "79958443-bb5c-447b-ec59-fe7fa02af982"
      },
      "source": [
        "data[data.duplicated()]"
      ],
      "execution_count": null,
      "outputs": [
        {
          "output_type": "execute_result",
          "data": {
            "text/html": [
              "<div>\n",
              "<style scoped>\n",
              "    .dataframe tbody tr th:only-of-type {\n",
              "        vertical-align: middle;\n",
              "    }\n",
              "\n",
              "    .dataframe tbody tr th {\n",
              "        vertical-align: top;\n",
              "    }\n",
              "\n",
              "    .dataframe thead th {\n",
              "        text-align: right;\n",
              "    }\n",
              "</style>\n",
              "<table border=\"1\" class=\"dataframe\">\n",
              "  <thead>\n",
              "    <tr style=\"text-align: right;\">\n",
              "      <th></th>\n",
              "      <th>person_age</th>\n",
              "      <th>person_income</th>\n",
              "      <th>person_home_ownership</th>\n",
              "      <th>person_emp_length</th>\n",
              "      <th>loan_intent</th>\n",
              "      <th>loan_grade</th>\n",
              "      <th>loan_amnt</th>\n",
              "      <th>loan_int_rate</th>\n",
              "      <th>loan_status</th>\n",
              "      <th>loan_percent_income</th>\n",
              "      <th>cb_person_default_on_file</th>\n",
              "      <th>cb_person_cred_hist_length</th>\n",
              "    </tr>\n",
              "  </thead>\n",
              "  <tbody>\n",
              "  </tbody>\n",
              "</table>\n",
              "</div>"
            ],
            "text/plain": [
              "Empty DataFrame\n",
              "Columns: [person_age, person_income, person_home_ownership, person_emp_length, loan_intent, loan_grade, loan_amnt, loan_int_rate, loan_status, loan_percent_income, cb_person_default_on_file, cb_person_cred_hist_length]\n",
              "Index: []"
            ]
          },
          "metadata": {},
          "execution_count": 18
        }
      ]
    },
    {
      "cell_type": "markdown",
      "metadata": {
        "id": "QZlddezvpo6d"
      },
      "source": [
        "## Correlated Features"
      ]
    },
    {
      "cell_type": "code",
      "metadata": {
        "id": "rX0lH1zEpo6e"
      },
      "source": [
        "import matplotlib.pyplot as plt\n",
        "import seaborn as sns\n",
        "\n",
        "\n",
        "def plot_correlation(data):\n",
        "    corr = data.corr()\n",
        "    mask = np.triu(np.ones_like(corr, dtype=bool))\n",
        "\n",
        "    fig = plt.figure(figsize=(10, 10))\n",
        "\n",
        "    ax = sns.heatmap(\n",
        "        corr, \n",
        "        mask=mask,\n",
        "        vmin=-1, vmax=1, center=0,\n",
        "        cmap='coolwarm',\n",
        "        square=True,\n",
        "        linewidths=0.3,\n",
        "        annot=True,\n",
        "        fmt=\".2f\",\n",
        "        annot_kws={\"size\": 8},\n",
        "        cbar_kws={\"shrink\": .5}\n",
        "    )\n",
        "\n",
        "    ax.set_xticklabels(\n",
        "        ax.get_xticklabels(),\n",
        "        rotation=45,\n",
        "        horizontalalignment='right'\n",
        "    )\n",
        "\n",
        "    ax.set_title(\"Correlation\", size=14)\n",
        "\n",
        "    plt.show()"
      ],
      "execution_count": null,
      "outputs": []
    },
    {
      "cell_type": "code",
      "metadata": {
        "colab": {
          "base_uri": "https://localhost:8080/",
          "height": 606
        },
        "id": "X9Fc_R_Zpo6f",
        "outputId": "a8ceb7ff-351b-4b3a-9fd9-109a4ec11701"
      },
      "source": [
        "plot_correlation(X[num_columns])"
      ],
      "execution_count": null,
      "outputs": [
        {
          "output_type": "display_data",
          "data": {
            "image/png": "[encoded data removed]",
            "text/plain": [
              "<Figure size 720x720 with 2 Axes>"
            ]
          },
          "metadata": {
            "needs_background": "light"
          }
        }
      ]
    },
    {
      "cell_type": "markdown",
      "metadata": {
        "id": "BGfIMGyYpo6g"
      },
      "source": [
        "## Data Splitting"
      ]
    },
    {
      "cell_type": "markdown",
      "metadata": {
        "id": "KvK9NuuSpo6h"
      },
      "source": [
        "### Model Validation  \n",
        "\n",
        "![alt text](Capture2.PNG)\n",
        "\n",
        "___  \n",
        "\n",
        "1. Training Dataset: The sample of data used to fit the model  \n",
        "2. Validation Dataset: The sample of data used to provide an unbiased evaluation of a model fit on the training  dataset while tuning model hyperparameters. The evaluation becomes more biased as skill on the validation dataset is incorporated into the model configuration  \n",
        "3. Test Dataset: The sample of data used to provide an unbiased evaluation of a final model fit on the training dataset.  \n",
        "\n",
        "Some models need substantial data to train upon, so you would optimize for the more extensive training sets in this case.  \n",
        "* Models with very few hyper-parameters will be easy to validate and tune, so you can probably reduce the size of your validation set.  \n",
        "* But if your model has many hyper-parameters, you would want to have a significant validation set as well.\n",
        "* If you happen to have a model with no hyper-parameters or ones that cannot be easily tuned, you probably don’t need a validation set too."
      ]
    },
    {
      "cell_type": "markdown",
      "metadata": {
        "id": "sDejBcSVpo6i"
      },
      "source": [
        "**Random Sampling**  \n",
        "\n",
        "Most typical splitting is random sampling. We split the dataset randomly for **unbiased evaluation**.  \n",
        "</br></br>First we split our data to train and test (holdout sample).  \n",
        "Typical splitting proportion in train and test."
      ]
    },
    {
      "cell_type": "markdown",
      "metadata": {
        "id": "StNV51xipo6j"
      },
      "source": [
        "train 60 valid20 test 20"
      ]
    },
    {
      "cell_type": "code",
      "metadata": {
        "id": "jQkY2KAQpo6j"
      },
      "source": [
        "# from sklearn.model_selection import train_test_split\n",
        "\n",
        "\n",
        "# SEED = 42 # random number\n",
        "\n",
        "# X_train, X_test, y_train, y_test = train_test_split(X, y, test_size=0.3, random_state=SEED)\n",
        "\n",
        "\n",
        "# print(\"Number of Train :\", len(y_train), f\"{round(len(y_train) / len(y) * 100, 2)}%\")\n",
        "# print(\"Number of Test :\", len(y_test), f\"{round(len(y_test) / len(y) * 100, 2)}%\")"
      ],
      "execution_count": null,
      "outputs": []
    },
    {
      "cell_type": "code",
      "metadata": {
        "id": "2AsLVjRVpo6l"
      },
      "source": [
        "# print(\"Percentage of target in Train :\", np.mean(y_train))\n",
        "# print(\"Percentage of target in Test :\", np.mean(y_test))"
      ],
      "execution_count": null,
      "outputs": []
    },
    {
      "cell_type": "markdown",
      "metadata": {
        "id": "yDArgWOXpo6m"
      },
      "source": [
        "<b>Parameter in train_test_split:</b>\n",
        "\n",
        "test_size : float, int or None, optional (default=0.25)\n",
        "    If float, should be between 0.0 and 1.0 and represent the proportion\n",
        "    of the dataset to include in the test split. If int, represents the\n",
        "    absolute number of test samples. If None, the value is set to the\n",
        "    complement of the train size. By default, the value is set to 0.25.\n",
        "    The default will change in version 0.21. It will remain 0.25 only\n",
        "    if ``train_size`` is unspecified, otherwise it will complement\n",
        "    the specified ``train_size``.\n",
        "\n",
        "train_size : float, int, or None, (default=None)\n",
        "    If float, should be between 0.0 and 1.0 and represent the\n",
        "    proportion of the dataset to include in the train split. If\n",
        "    int, represents the absolute number of train samples. If None,\n",
        "    the value is automatically set to the complement of the test size.\n",
        "\n",
        "random_state : int, RandomState instance or None, optional (default=None)\n",
        "    If int, random_state is the seed used by the random number generator;\n",
        "    If RandomState instance, random_state is the random number generator;\n",
        "    If None, the random number generator is the RandomState instance used\n",
        "    by `np.random`.\n",
        "\n",
        "shuffle : boolean, optional (default=True)\n",
        "    Whether or not to shuffle the data before splitting. If shuffle=False\n",
        "    then stratify must be None.\n",
        "\n",
        "stratify : array-like or None (default=None)\n",
        "    If not None, data is split in a stratified fashion, using this as\n",
        "    the class labels."
      ]
    },
    {
      "cell_type": "markdown",
      "metadata": {
        "id": "1-3H9klCpo6n"
      },
      "source": [
        "**Stratified Sampling**\n",
        "\n",
        "<img src='stratified-sampling.jpeg'>"
      ]
    },
    {
      "cell_type": "code",
      "metadata": {
        "colab": {
          "base_uri": "https://localhost:8080/"
        },
        "id": "TY_gqXTbpo6n",
        "outputId": "08fb24c2-386a-4c00-9017-6101f9c3f476"
      },
      "source": [
        "from sklearn.model_selection import train_test_split\n",
        "\n",
        "SEED=40\n",
        "\n",
        "X_train, X_test, y_train, y_test = train_test_split(X, y, test_size=0.3, stratify=y, random_state=SEED)\n",
        "\n",
        "print(\"Number of Train :\", len(y_train), f\"{round(len(y_train) / len(y) * 100, 2)}%\")\n",
        "print(\"Number of Test :\", len(y_test), f\"{round(len(y_test) / len(y) * 100, 2)}%\")"
      ],
      "execution_count": null,
      "outputs": [
        {
          "output_type": "stream",
          "name": "stdout",
          "text": [
            "Number of Train : 22806 70.0%\n",
            "Number of Test : 9775 30.0%\n"
          ]
        }
      ]
    },
    {
      "cell_type": "code",
      "metadata": {
        "colab": {
          "base_uri": "https://localhost:8080/"
        },
        "id": "tF6R-viJpo6o",
        "outputId": "3d0bd457-f346-4327-9395-0602fa3b8eb9"
      },
      "source": [
        "print(\"Percentage of target in Train :\", np.mean(y_train))\n",
        "print(\"Percentage of target in Test :\", np.mean(y_test))"
      ],
      "execution_count": null,
      "outputs": [
        {
          "output_type": "stream",
          "name": "stdout",
          "text": [
            "Percentage of target in Train : 0.21814434797860213\n",
            "Percentage of target in Test : 0.2182097186700767\n"
          ]
        }
      ]
    },
    {
      "cell_type": "code",
      "metadata": {
        "id": "GxKGhsO0po6q"
      },
      "source": [
        "# X_train"
      ],
      "execution_count": null,
      "outputs": []
    },
    {
      "cell_type": "code",
      "metadata": {
        "id": "Fo6LtuOOpo6r"
      },
      "source": [
        "# X_train.to_csv('X_train.csv')\n",
        "# y_train.to_csv('y_train.csv')\n",
        "# X_test.to_csv('X_test.csv')\n",
        "# y_test.to_csv('y_test.csv')"
      ],
      "execution_count": null,
      "outputs": []
    },
    {
      "cell_type": "markdown",
      "metadata": {
        "id": "-6r9ZjbCpo6s"
      },
      "source": [
        "### Data Preprocess"
      ]
    },
    {
      "cell_type": "markdown",
      "metadata": {
        "id": "-oUnlZiApo6s"
      },
      "source": [
        "distinguish numerical and categorical variable since it will have a different approach of preprocessing"
      ]
    },
    {
      "cell_type": "code",
      "metadata": {
        "id": "7vwljdDDpo6t"
      },
      "source": [
        "def get_data_by_types(X_train, X_test):\n",
        "    X_train_num, X_train_cat = X_train[num_columns], X_train[cat_columns]\n",
        "    X_test_num, X_test_cat = X_test[num_columns], X_test[cat_columns]\n",
        "    return X_train_num, X_train_cat, X_test_num, X_test_cat"
      ],
      "execution_count": null,
      "outputs": []
    },
    {
      "cell_type": "code",
      "metadata": {
        "id": "W6Nq5tnepo6u"
      },
      "source": [
        "X_train_num, X_train_cat, X_test_num, X_test_cat = get_data_by_types(X_train, X_test)"
      ],
      "execution_count": null,
      "outputs": []
    },
    {
      "cell_type": "markdown",
      "metadata": {
        "id": "uUwXY3d4po6v"
      },
      "source": [
        "#### categorical variable"
      ]
    },
    {
      "cell_type": "code",
      "metadata": {
        "colab": {
          "base_uri": "https://localhost:8080/"
        },
        "id": "VXWYR9WAunOe",
        "outputId": "7d9ce234-8037-4a67-deba-41ba0b62dbe6"
      },
      "source": [
        "# List Columns with NaN\n",
        "print('Total columns:',data.shape[1])\n",
        "print('Total columns with nan:',len(data.columns[data.isna().any()]))"
      ],
      "execution_count": null,
      "outputs": [
        {
          "output_type": "stream",
          "name": "stdout",
          "text": [
            "Total columns: 12\n",
            "Total columns with nan: 2\n"
          ]
        }
      ]
    },
    {
      "cell_type": "code",
      "metadata": {
        "id": "Vik9gG1epo6v"
      },
      "source": [
        "# data['person_emp_length'].value_counts()"
      ],
      "execution_count": null,
      "outputs": []
    },
    {
      "cell_type": "code",
      "metadata": {
        "id": "ccbD_tklux8A"
      },
      "source": [
        "# data['loan_int_rate'].value_counts()"
      ],
      "execution_count": null,
      "outputs": []
    },
    {
      "cell_type": "code",
      "metadata": {
        "id": "gkCpSnBMvobF"
      },
      "source": [
        "# # Nan Percentage by Column\n",
        "# list_column_nan_data = data[data.columns[data.isnull().any()]].isnull().sum() * 100 / data.shape[0]\n",
        "# list_column_nan_data\n"
      ],
      "execution_count": null,
      "outputs": []
    },
    {
      "cell_type": "code",
      "metadata": {
        "id": "20NKTMAZviLm"
      },
      "source": [
        "# list_drop_na = list_column_nan_data[list_column_nan_data>=75].index.tolist()\n",
        "# data = data.drop(list_drop_na, axis=1)"
      ],
      "execution_count": null,
      "outputs": []
    },
    {
      "cell_type": "code",
      "metadata": {
        "id": "8pi1GviJvx6S"
      },
      "source": [
        "# continuous_features = ['person_emp_length', 'loan_int_rate']\n",
        "# continuous_features"
      ],
      "execution_count": null,
      "outputs": []
    },
    {
      "cell_type": "code",
      "metadata": {
        "id": "57LouQUEveuy"
      },
      "source": [
        "# list_fill_na = list_column_nan_data[list_column_nan_data<75].index.tolist()"
      ],
      "execution_count": null,
      "outputs": []
    },
    {
      "cell_type": "code",
      "metadata": {
        "id": "rR4B_UUFwHN6"
      },
      "source": [
        "# list_fill_na_continuous = list(set(continuous_features).intersection(set(list_fill_na)))\n",
        "# list_fill_na_continuous"
      ],
      "execution_count": null,
      "outputs": []
    },
    {
      "cell_type": "code",
      "metadata": {
        "id": "kDwZYAgMvIg5"
      },
      "source": [
        "# for i in list_fill_na_continuous:\n",
        "#     data[f'{i}_nan'] = data[i].fillna(data[i].median())\n",
        "    \n",
        "#     # kita mau buat 2 skenario, mau isi mediannya "
      ],
      "execution_count": null,
      "outputs": []
    },
    {
      "cell_type": "code",
      "metadata": {
        "colab": {
          "base_uri": "https://localhost:8080/"
        },
        "id": "b0KXEnabpo6w",
        "outputId": "154f642a-5f29-4df9-9a7f-45463881a398"
      },
      "source": [
        "from sklearn.impute import SimpleImputer\n",
        "\n",
        "imp = SimpleImputer(strategy=\"constant\", fill_value=\"missing\")\n",
        "imp.fit(X_train_cat)"
      ],
      "execution_count": null,
      "outputs": [
        {
          "output_type": "execute_result",
          "data": {
            "text/plain": [
              "SimpleImputer(add_indicator=False, copy=True, fill_value='missing',\n",
              "              missing_values=nan, strategy='constant', verbose=0)"
            ]
          },
          "metadata": {},
          "execution_count": 38
        }
      ]
    },
    {
      "cell_type": "code",
      "metadata": {
        "id": "znE4iOk2po6x"
      },
      "source": [
        "X_train_cat = imp.transform(X_train_cat)\n",
        "X_test_cat = imp.transform(X_test_cat)"
      ],
      "execution_count": null,
      "outputs": []
    },
    {
      "cell_type": "markdown",
      "metadata": {
        "id": "cOXNg2Tzpo6y"
      },
      "source": [
        "Check missing value"
      ]
    },
    {
      "cell_type": "code",
      "metadata": {
        "colab": {
          "base_uri": "https://localhost:8080/"
        },
        "id": "enUAcOWPpo6y",
        "outputId": "0a62e3f1-3359-4798-b2e4-3ac559257d03"
      },
      "source": [
        "pd.DataFrame(X_train_cat, columns=cat_columns).isnull().sum()"
      ],
      "execution_count": null,
      "outputs": [
        {
          "output_type": "execute_result",
          "data": {
            "text/plain": [
              "person_home_ownership        0\n",
              "loan_intent                  0\n",
              "loan_grade                   0\n",
              "cb_person_default_on_file    0\n",
              "dtype: int64"
            ]
          },
          "metadata": {},
          "execution_count": 40
        }
      ]
    },
    {
      "cell_type": "code",
      "metadata": {
        "id": "EFtdvHpjpo6z"
      },
      "source": [
        "from sklearn.preprocessing import OneHotEncoder\n",
        "\n",
        "ohe = OneHotEncoder(drop='first')\n",
        "ohe.fit(X_train_cat)\n",
        "\n",
        "X_train_cat = ohe.transform(X_train_cat).toarray()\n",
        "X_test_cat = ohe.transform(X_test_cat).toarray()"
      ],
      "execution_count": null,
      "outputs": []
    },
    {
      "cell_type": "code",
      "metadata": {
        "id": "gzoRpIU2po60"
      },
      "source": [
        "X_train_cat = pd.DataFrame(X_train_cat, columns=ohe.get_feature_names(cat_columns), index=X_train.index)\n",
        "X_test_cat = pd.DataFrame(X_test_cat, columns=ohe.get_feature_names(cat_columns), index=X_test.index)"
      ],
      "execution_count": null,
      "outputs": []
    },
    {
      "cell_type": "code",
      "metadata": {
        "id": "3tqtFeCrpo61"
      },
      "source": [
        "# Create a function to preprocess categorical variable\n",
        "def preprocess_categorical(X_train_cat, X_test_cat):\n",
        "    imp = SimpleImputer(strategy=\"constant\", fill_value=\"missing\")\n",
        "    ohe = OneHotEncoder(drop=\"first\")\n",
        "    \n",
        "    imp.fit(X_train_cat)\n",
        "    \n",
        "    X_train_cat = imp.transform(X_train_cat)\n",
        "    X_test_cat = imp.transform(X_test_cat)\n",
        "    \n",
        "    ohe.fit(X_train_cat)\n",
        "    \n",
        "    X_train_cat = ohe.transform(X_train_cat).toarray()\n",
        "    X_test_cat = ohe.transform(X_test_cat).toarray()\n",
        "    \n",
        "    X_train_cat = pd.DataFrame(X_train_cat, columns=ohe.get_feature_names(cat_columns), index=X_train.index)\n",
        "    X_test_cat = pd.DataFrame(X_test_cat, columns=ohe.get_feature_names(cat_columns), index=X_test.index)\n",
        "\n",
        "    return X_train_cat, X_test_cat"
      ],
      "execution_count": null,
      "outputs": []
    },
    {
      "cell_type": "code",
      "metadata": {
        "id": "3tylqKOjpo62"
      },
      "source": [
        "X_train_num, X_train_cat, X_test_num, X_test_cat = get_data_by_types(X_train, X_test)\n",
        "X_train_cat, X_test_cat = preprocess_categorical(X_train_cat, X_test_cat)"
      ],
      "execution_count": null,
      "outputs": []
    },
    {
      "cell_type": "code",
      "metadata": {
        "colab": {
          "base_uri": "https://localhost:8080/",
          "height": 440
        },
        "id": "Fney1bT203Jd",
        "outputId": "7302cdb1-32c2-40f8-82ca-843b3707556c"
      },
      "source": [
        "\n",
        "pd.DataFrame(X_train_cat)"
      ],
      "execution_count": null,
      "outputs": [
        {
          "output_type": "execute_result",
          "data": {
            "text/html": [
              "<div>\n",
              "<style scoped>\n",
              "    .dataframe tbody tr th:only-of-type {\n",
              "        vertical-align: middle;\n",
              "    }\n",
              "\n",
              "    .dataframe tbody tr th {\n",
              "        vertical-align: top;\n",
              "    }\n",
              "\n",
              "    .dataframe thead th {\n",
              "        text-align: right;\n",
              "    }\n",
              "</style>\n",
              "<table border=\"1\" class=\"dataframe\">\n",
              "  <thead>\n",
              "    <tr style=\"text-align: right;\">\n",
              "      <th></th>\n",
              "      <th>person_home_ownership_OTHER</th>\n",
              "      <th>person_home_ownership_OWN</th>\n",
              "      <th>person_home_ownership_RENT</th>\n",
              "      <th>loan_intent_EDUCATION</th>\n",
              "      <th>loan_intent_HOMEIMPROVEMENT</th>\n",
              "      <th>loan_intent_MEDICAL</th>\n",
              "      <th>loan_intent_PERSONAL</th>\n",
              "      <th>loan_intent_VENTURE</th>\n",
              "      <th>loan_grade_B</th>\n",
              "      <th>loan_grade_C</th>\n",
              "      <th>loan_grade_D</th>\n",
              "      <th>loan_grade_E</th>\n",
              "      <th>loan_grade_F</th>\n",
              "      <th>loan_grade_G</th>\n",
              "      <th>cb_person_default_on_file_Y</th>\n",
              "    </tr>\n",
              "  </thead>\n",
              "  <tbody>\n",
              "    <tr>\n",
              "      <th>10913</th>\n",
              "      <td>0.0</td>\n",
              "      <td>0.0</td>\n",
              "      <td>0.0</td>\n",
              "      <td>1.0</td>\n",
              "      <td>0.0</td>\n",
              "      <td>0.0</td>\n",
              "      <td>0.0</td>\n",
              "      <td>0.0</td>\n",
              "      <td>0.0</td>\n",
              "      <td>0.0</td>\n",
              "      <td>0.0</td>\n",
              "      <td>0.0</td>\n",
              "      <td>0.0</td>\n",
              "      <td>0.0</td>\n",
              "      <td>0.0</td>\n",
              "    </tr>\n",
              "    <tr>\n",
              "      <th>21010</th>\n",
              "      <td>0.0</td>\n",
              "      <td>0.0</td>\n",
              "      <td>0.0</td>\n",
              "      <td>0.0</td>\n",
              "      <td>0.0</td>\n",
              "      <td>0.0</td>\n",
              "      <td>1.0</td>\n",
              "      <td>0.0</td>\n",
              "      <td>0.0</td>\n",
              "      <td>0.0</td>\n",
              "      <td>0.0</td>\n",
              "      <td>0.0</td>\n",
              "      <td>0.0</td>\n",
              "      <td>0.0</td>\n",
              "      <td>0.0</td>\n",
              "    </tr>\n",
              "    <tr>\n",
              "      <th>14431</th>\n",
              "      <td>0.0</td>\n",
              "      <td>0.0</td>\n",
              "      <td>1.0</td>\n",
              "      <td>0.0</td>\n",
              "      <td>0.0</td>\n",
              "      <td>1.0</td>\n",
              "      <td>0.0</td>\n",
              "      <td>0.0</td>\n",
              "      <td>0.0</td>\n",
              "      <td>0.0</td>\n",
              "      <td>0.0</td>\n",
              "      <td>0.0</td>\n",
              "      <td>0.0</td>\n",
              "      <td>0.0</td>\n",
              "      <td>0.0</td>\n",
              "    </tr>\n",
              "    <tr>\n",
              "      <th>10024</th>\n",
              "      <td>0.0</td>\n",
              "      <td>0.0</td>\n",
              "      <td>0.0</td>\n",
              "      <td>0.0</td>\n",
              "      <td>0.0</td>\n",
              "      <td>1.0</td>\n",
              "      <td>0.0</td>\n",
              "      <td>0.0</td>\n",
              "      <td>1.0</td>\n",
              "      <td>0.0</td>\n",
              "      <td>0.0</td>\n",
              "      <td>0.0</td>\n",
              "      <td>0.0</td>\n",
              "      <td>0.0</td>\n",
              "      <td>0.0</td>\n",
              "    </tr>\n",
              "    <tr>\n",
              "      <th>30633</th>\n",
              "      <td>0.0</td>\n",
              "      <td>0.0</td>\n",
              "      <td>1.0</td>\n",
              "      <td>0.0</td>\n",
              "      <td>0.0</td>\n",
              "      <td>0.0</td>\n",
              "      <td>0.0</td>\n",
              "      <td>0.0</td>\n",
              "      <td>0.0</td>\n",
              "      <td>0.0</td>\n",
              "      <td>1.0</td>\n",
              "      <td>0.0</td>\n",
              "      <td>0.0</td>\n",
              "      <td>0.0</td>\n",
              "      <td>1.0</td>\n",
              "    </tr>\n",
              "    <tr>\n",
              "      <th>...</th>\n",
              "      <td>...</td>\n",
              "      <td>...</td>\n",
              "      <td>...</td>\n",
              "      <td>...</td>\n",
              "      <td>...</td>\n",
              "      <td>...</td>\n",
              "      <td>...</td>\n",
              "      <td>...</td>\n",
              "      <td>...</td>\n",
              "      <td>...</td>\n",
              "      <td>...</td>\n",
              "      <td>...</td>\n",
              "      <td>...</td>\n",
              "      <td>...</td>\n",
              "      <td>...</td>\n",
              "    </tr>\n",
              "    <tr>\n",
              "      <th>18908</th>\n",
              "      <td>0.0</td>\n",
              "      <td>0.0</td>\n",
              "      <td>1.0</td>\n",
              "      <td>0.0</td>\n",
              "      <td>0.0</td>\n",
              "      <td>0.0</td>\n",
              "      <td>0.0</td>\n",
              "      <td>1.0</td>\n",
              "      <td>0.0</td>\n",
              "      <td>0.0</td>\n",
              "      <td>0.0</td>\n",
              "      <td>0.0</td>\n",
              "      <td>0.0</td>\n",
              "      <td>0.0</td>\n",
              "      <td>0.0</td>\n",
              "    </tr>\n",
              "    <tr>\n",
              "      <th>17888</th>\n",
              "      <td>0.0</td>\n",
              "      <td>0.0</td>\n",
              "      <td>1.0</td>\n",
              "      <td>0.0</td>\n",
              "      <td>0.0</td>\n",
              "      <td>1.0</td>\n",
              "      <td>0.0</td>\n",
              "      <td>0.0</td>\n",
              "      <td>1.0</td>\n",
              "      <td>0.0</td>\n",
              "      <td>0.0</td>\n",
              "      <td>0.0</td>\n",
              "      <td>0.0</td>\n",
              "      <td>0.0</td>\n",
              "      <td>0.0</td>\n",
              "    </tr>\n",
              "    <tr>\n",
              "      <th>10625</th>\n",
              "      <td>0.0</td>\n",
              "      <td>0.0</td>\n",
              "      <td>0.0</td>\n",
              "      <td>0.0</td>\n",
              "      <td>1.0</td>\n",
              "      <td>0.0</td>\n",
              "      <td>0.0</td>\n",
              "      <td>0.0</td>\n",
              "      <td>0.0</td>\n",
              "      <td>1.0</td>\n",
              "      <td>0.0</td>\n",
              "      <td>0.0</td>\n",
              "      <td>0.0</td>\n",
              "      <td>0.0</td>\n",
              "      <td>0.0</td>\n",
              "    </tr>\n",
              "    <tr>\n",
              "      <th>27258</th>\n",
              "      <td>0.0</td>\n",
              "      <td>0.0</td>\n",
              "      <td>0.0</td>\n",
              "      <td>1.0</td>\n",
              "      <td>0.0</td>\n",
              "      <td>0.0</td>\n",
              "      <td>0.0</td>\n",
              "      <td>0.0</td>\n",
              "      <td>0.0</td>\n",
              "      <td>0.0</td>\n",
              "      <td>0.0</td>\n",
              "      <td>0.0</td>\n",
              "      <td>0.0</td>\n",
              "      <td>0.0</td>\n",
              "      <td>0.0</td>\n",
              "    </tr>\n",
              "    <tr>\n",
              "      <th>18806</th>\n",
              "      <td>0.0</td>\n",
              "      <td>1.0</td>\n",
              "      <td>0.0</td>\n",
              "      <td>0.0</td>\n",
              "      <td>1.0</td>\n",
              "      <td>0.0</td>\n",
              "      <td>0.0</td>\n",
              "      <td>0.0</td>\n",
              "      <td>0.0</td>\n",
              "      <td>0.0</td>\n",
              "      <td>0.0</td>\n",
              "      <td>0.0</td>\n",
              "      <td>0.0</td>\n",
              "      <td>0.0</td>\n",
              "      <td>0.0</td>\n",
              "    </tr>\n",
              "  </tbody>\n",
              "</table>\n",
              "<p>22806 rows × 15 columns</p>\n",
              "</div>"
            ],
            "text/plain": [
              "       person_home_ownership_OTHER  person_home_ownership_OWN  \\\n",
              "10913                          0.0                        0.0   \n",
              "21010                          0.0                        0.0   \n",
              "14431                          0.0                        0.0   \n",
              "10024                          0.0                        0.0   \n",
              "30633                          0.0                        0.0   \n",
              "...                            ...                        ...   \n",
              "18908                          0.0                        0.0   \n",
              "17888                          0.0                        0.0   \n",
              "10625                          0.0                        0.0   \n",
              "27258                          0.0                        0.0   \n",
              "18806                          0.0                        1.0   \n",
              "\n",
              "       person_home_ownership_RENT  loan_intent_EDUCATION  \\\n",
              "10913                         0.0                    1.0   \n",
              "21010                         0.0                    0.0   \n",
              "14431                         1.0                    0.0   \n",
              "10024                         0.0                    0.0   \n",
              "30633                         1.0                    0.0   \n",
              "...                           ...                    ...   \n",
              "18908                         1.0                    0.0   \n",
              "17888                         1.0                    0.0   \n",
              "10625                         0.0                    0.0   \n",
              "27258                         0.0                    1.0   \n",
              "18806                         0.0                    0.0   \n",
              "\n",
              "       loan_intent_HOMEIMPROVEMENT  loan_intent_MEDICAL  loan_intent_PERSONAL  \\\n",
              "10913                          0.0                  0.0                   0.0   \n",
              "21010                          0.0                  0.0                   1.0   \n",
              "14431                          0.0                  1.0                   0.0   \n",
              "10024                          0.0                  1.0                   0.0   \n",
              "30633                          0.0                  0.0                   0.0   \n",
              "...                            ...                  ...                   ...   \n",
              "18908                          0.0                  0.0                   0.0   \n",
              "17888                          0.0                  1.0                   0.0   \n",
              "10625                          1.0                  0.0                   0.0   \n",
              "27258                          0.0                  0.0                   0.0   \n",
              "18806                          1.0                  0.0                   0.0   \n",
              "\n",
              "       loan_intent_VENTURE  loan_grade_B  loan_grade_C  loan_grade_D  \\\n",
              "10913                  0.0           0.0           0.0           0.0   \n",
              "21010                  0.0           0.0           0.0           0.0   \n",
              "14431                  0.0           0.0           0.0           0.0   \n",
              "10024                  0.0           1.0           0.0           0.0   \n",
              "30633                  0.0           0.0           0.0           1.0   \n",
              "...                    ...           ...           ...           ...   \n",
              "18908                  1.0           0.0           0.0           0.0   \n",
              "17888                  0.0           1.0           0.0           0.0   \n",
              "10625                  0.0           0.0           1.0           0.0   \n",
              "27258                  0.0           0.0           0.0           0.0   \n",
              "18806                  0.0           0.0           0.0           0.0   \n",
              "\n",
              "       loan_grade_E  loan_grade_F  loan_grade_G  cb_person_default_on_file_Y  \n",
              "10913           0.0           0.0           0.0                          0.0  \n",
              "21010           0.0           0.0           0.0                          0.0  \n",
              "14431           0.0           0.0           0.0                          0.0  \n",
              "10024           0.0           0.0           0.0                          0.0  \n",
              "30633           0.0           0.0           0.0                          1.0  \n",
              "...             ...           ...           ...                          ...  \n",
              "18908           0.0           0.0           0.0                          0.0  \n",
              "17888           0.0           0.0           0.0                          0.0  \n",
              "10625           0.0           0.0           0.0                          0.0  \n",
              "27258           0.0           0.0           0.0                          0.0  \n",
              "18806           0.0           0.0           0.0                          0.0  \n",
              "\n",
              "[22806 rows x 15 columns]"
            ]
          },
          "metadata": {},
          "execution_count": 45
        }
      ]
    },
    {
      "cell_type": "markdown",
      "metadata": {
        "id": "j8WAEoC3po63"
      },
      "source": [
        "#### Numerical Variable"
      ]
    },
    {
      "cell_type": "code",
      "metadata": {
        "colab": {
          "base_uri": "https://localhost:8080/"
        },
        "id": "Mt5yDTGe57jB",
        "outputId": "e11a0b1b-0faa-4f30-ef18-b81ff12bc3ef"
      },
      "source": [
        "pd.DataFrame(X_train_num, columns=num_columns).isnull().sum()"
      ],
      "execution_count": null,
      "outputs": [
        {
          "output_type": "execute_result",
          "data": {
            "text/plain": [
              "person_age                       0\n",
              "person_income                    0\n",
              "person_emp_length              623\n",
              "loan_amnt                        0\n",
              "loan_int_rate                 2176\n",
              "loan_percent_income              0\n",
              "cb_person_cred_hist_length       0\n",
              "dtype: int64"
            ]
          },
          "metadata": {},
          "execution_count": 46
        }
      ]
    },
    {
      "cell_type": "code",
      "metadata": {
        "id": "ANj__w-Fpo64"
      },
      "source": [
        "# from sklearn.preprocessing import StandardScaler\n",
        "\n",
        "# sc = StandardScaler()\n",
        "# sc.fit(X_train.loc[:, num_columns])"
      ],
      "execution_count": null,
      "outputs": []
    },
    {
      "cell_type": "code",
      "metadata": {
        "id": "KmAhf_KVpo65"
      },
      "source": [
        "# X_train_num = sc.transform(X_train[num_columns])\n",
        "# X_test_num = sc.transform(X_test[num_columns])"
      ],
      "execution_count": null,
      "outputs": []
    },
    {
      "cell_type": "code",
      "metadata": {
        "colab": {
          "base_uri": "https://localhost:8080/"
        },
        "id": "VhOFMIk94Oh5",
        "outputId": "611a7fa4-e46d-4d3c-ee3d-0f3ce78ef494"
      },
      "source": [
        "from sklearn.impute import SimpleImputer\n",
        "\n",
        "imp = SimpleImputer(missing_values = np.nan, strategy = 'median') \n",
        "imp.fit(X_train_num)"
      ],
      "execution_count": null,
      "outputs": [
        {
          "output_type": "execute_result",
          "data": {
            "text/plain": [
              "SimpleImputer(add_indicator=False, copy=True, fill_value=None,\n",
              "              missing_values=nan, strategy='median', verbose=0)"
            ]
          },
          "metadata": {},
          "execution_count": 49
        }
      ]
    },
    {
      "cell_type": "code",
      "metadata": {
        "id": "iieppcvb4amq"
      },
      "source": [
        "X_train_num = imp.transform(X_train_num)\n",
        "X_test_num = imp.transform(X_test_num)"
      ],
      "execution_count": null,
      "outputs": []
    },
    {
      "cell_type": "code",
      "metadata": {
        "colab": {
          "base_uri": "https://localhost:8080/"
        },
        "id": "EThNo_Anpo65",
        "outputId": "d3cdd35c-8e6b-4d9c-a71d-d2d24e193433"
      },
      "source": [
        "X_train_num"
      ],
      "execution_count": null,
      "outputs": [
        {
          "output_type": "execute_result",
          "data": {
            "text/plain": [
              "array([[2.6000e+01, 7.0000e+04, 0.0000e+00, ..., 7.8800e+00, 1.0000e-01,\n",
              "        4.0000e+00],\n",
              "       [3.2000e+01, 4.5000e+04, 1.6000e+01, ..., 7.4900e+00, 1.3000e-01,\n",
              "        6.0000e+00],\n",
              "       [2.1000e+01, 3.1200e+04, 4.0000e+00, ..., 6.6200e+00, 4.8000e-01,\n",
              "        3.0000e+00],\n",
              "       ...,\n",
              "       [2.4000e+01, 6.3582e+04, 3.0000e+00, ..., 1.3850e+01, 2.2000e-01,\n",
              "        3.0000e+00],\n",
              "       [2.9000e+01, 1.3000e+05, 5.0000e+00, ..., 7.4900e+00, 1.9000e-01,\n",
              "        1.0000e+01],\n",
              "       [3.0000e+01, 2.7000e+04, 4.0000e+00, ..., 7.8800e+00, 1.6000e-01,\n",
              "        9.0000e+00]])"
            ]
          },
          "metadata": {},
          "execution_count": 51
        }
      ]
    },
    {
      "cell_type": "code",
      "metadata": {
        "id": "Bd4cQf577gg2"
      },
      "source": [
        "# from sklearn.preprocessing import OneHotEncoder\n",
        "\n",
        "# ohe = OneHotEncoder(drop='first')\n",
        "# ohe.fit(X_train_num)\n",
        "\n",
        "# X_train_num = ohe.transform(X_train_num).toarray()\n",
        "# X_test_num = ohe.transform(X_test_num).toarray()"
      ],
      "execution_count": null,
      "outputs": []
    },
    {
      "cell_type": "code",
      "metadata": {
        "id": "nhuecOmL7njs"
      },
      "source": [
        "X_train_num = pd.DataFrame(X_train_num, columns=num_columns, index=X_train.index)\n",
        "X_test_num = pd.DataFrame(X_test_num, columns=num_columns, index=X_test.index)"
      ],
      "execution_count": null,
      "outputs": []
    },
    {
      "cell_type": "code",
      "metadata": {
        "id": "5YDQNh-h3G-h"
      },
      "source": [
        "# # Create a function to preprocess categorical variable\n",
        "# def preprocess_numerical(X_train_num, X_test_num):\n",
        "#     imp = SimpleImputer(missing_values = np.nan, strategy = 'median')\n",
        "\n",
        "    \n",
        "#     imp.fit(X_train_num)\n",
        "    \n",
        "#     X_train_num = imp.transform(X_train_num)\n",
        "#     X_test_num = imp.transform(X_test_num)\n",
        "    \n",
        "    \n",
        "#     X_train_num = pd.DataFrame(X_train_num, columns=ohe.get_feature_names(cat_columns), index=X_train.index)\n",
        "#     X_test_num = pd.DataFrame(X_test_num, columns=ohe.get_feature_names(cat_columns), index=X_test.index)\n",
        "\n",
        "#     return X_train_num, X_test_num"
      ],
      "execution_count": null,
      "outputs": []
    },
    {
      "cell_type": "code",
      "metadata": {
        "id": "fW59njUB3KGn"
      },
      "source": [
        "# X_train_num, X_train_cat, X_test_num, X_test_cat = get_data_by_types(X_train, X_test)\n",
        "# X_train_num, X_test_num = preprocess_numerical(X_train_num, X_test_num)"
      ],
      "execution_count": null,
      "outputs": []
    },
    {
      "cell_type": "code",
      "metadata": {
        "id": "dL6zX5hCpo67"
      },
      "source": [
        "X_train_trans = X_train_cat.join(X_train_num)\n",
        "X_test_trans = X_test_cat.join(X_test_num)"
      ],
      "execution_count": null,
      "outputs": []
    },
    {
      "cell_type": "code",
      "metadata": {
        "colab": {
          "base_uri": "https://localhost:8080/",
          "height": 224
        },
        "id": "ERJjBQr7po68",
        "outputId": "6f3525e9-c0cf-446b-c5c0-428291307f25"
      },
      "source": [
        "X_train_trans.head()"
      ],
      "execution_count": null,
      "outputs": [
        {
          "output_type": "execute_result",
          "data": {
            "text/html": [
              "<div>\n",
              "<style scoped>\n",
              "    .dataframe tbody tr th:only-of-type {\n",
              "        vertical-align: middle;\n",
              "    }\n",
              "\n",
              "    .dataframe tbody tr th {\n",
              "        vertical-align: top;\n",
              "    }\n",
              "\n",
              "    .dataframe thead th {\n",
              "        text-align: right;\n",
              "    }\n",
              "</style>\n",
              "<table border=\"1\" class=\"dataframe\">\n",
              "  <thead>\n",
              "    <tr style=\"text-align: right;\">\n",
              "      <th></th>\n",
              "      <th>person_home_ownership_OTHER</th>\n",
              "      <th>person_home_ownership_OWN</th>\n",
              "      <th>person_home_ownership_RENT</th>\n",
              "      <th>loan_intent_EDUCATION</th>\n",
              "      <th>loan_intent_HOMEIMPROVEMENT</th>\n",
              "      <th>loan_intent_MEDICAL</th>\n",
              "      <th>loan_intent_PERSONAL</th>\n",
              "      <th>loan_intent_VENTURE</th>\n",
              "      <th>loan_grade_B</th>\n",
              "      <th>loan_grade_C</th>\n",
              "      <th>loan_grade_D</th>\n",
              "      <th>loan_grade_E</th>\n",
              "      <th>loan_grade_F</th>\n",
              "      <th>loan_grade_G</th>\n",
              "      <th>cb_person_default_on_file_Y</th>\n",
              "      <th>person_age</th>\n",
              "      <th>person_income</th>\n",
              "      <th>person_emp_length</th>\n",
              "      <th>loan_amnt</th>\n",
              "      <th>loan_int_rate</th>\n",
              "      <th>loan_percent_income</th>\n",
              "      <th>cb_person_cred_hist_length</th>\n",
              "    </tr>\n",
              "  </thead>\n",
              "  <tbody>\n",
              "    <tr>\n",
              "      <th>10913</th>\n",
              "      <td>0.0</td>\n",
              "      <td>0.0</td>\n",
              "      <td>0.0</td>\n",
              "      <td>1.0</td>\n",
              "      <td>0.0</td>\n",
              "      <td>0.0</td>\n",
              "      <td>0.0</td>\n",
              "      <td>0.0</td>\n",
              "      <td>0.0</td>\n",
              "      <td>0.0</td>\n",
              "      <td>0.0</td>\n",
              "      <td>0.0</td>\n",
              "      <td>0.0</td>\n",
              "      <td>0.0</td>\n",
              "      <td>0.0</td>\n",
              "      <td>26.0</td>\n",
              "      <td>70000.0</td>\n",
              "      <td>0.0</td>\n",
              "      <td>7000.0</td>\n",
              "      <td>7.88</td>\n",
              "      <td>0.10</td>\n",
              "      <td>4.0</td>\n",
              "    </tr>\n",
              "    <tr>\n",
              "      <th>21010</th>\n",
              "      <td>0.0</td>\n",
              "      <td>0.0</td>\n",
              "      <td>0.0</td>\n",
              "      <td>0.0</td>\n",
              "      <td>0.0</td>\n",
              "      <td>0.0</td>\n",
              "      <td>1.0</td>\n",
              "      <td>0.0</td>\n",
              "      <td>0.0</td>\n",
              "      <td>0.0</td>\n",
              "      <td>0.0</td>\n",
              "      <td>0.0</td>\n",
              "      <td>0.0</td>\n",
              "      <td>0.0</td>\n",
              "      <td>0.0</td>\n",
              "      <td>32.0</td>\n",
              "      <td>45000.0</td>\n",
              "      <td>16.0</td>\n",
              "      <td>6000.0</td>\n",
              "      <td>7.49</td>\n",
              "      <td>0.13</td>\n",
              "      <td>6.0</td>\n",
              "    </tr>\n",
              "    <tr>\n",
              "      <th>14431</th>\n",
              "      <td>0.0</td>\n",
              "      <td>0.0</td>\n",
              "      <td>1.0</td>\n",
              "      <td>0.0</td>\n",
              "      <td>0.0</td>\n",
              "      <td>1.0</td>\n",
              "      <td>0.0</td>\n",
              "      <td>0.0</td>\n",
              "      <td>0.0</td>\n",
              "      <td>0.0</td>\n",
              "      <td>0.0</td>\n",
              "      <td>0.0</td>\n",
              "      <td>0.0</td>\n",
              "      <td>0.0</td>\n",
              "      <td>0.0</td>\n",
              "      <td>21.0</td>\n",
              "      <td>31200.0</td>\n",
              "      <td>4.0</td>\n",
              "      <td>15000.0</td>\n",
              "      <td>6.62</td>\n",
              "      <td>0.48</td>\n",
              "      <td>3.0</td>\n",
              "    </tr>\n",
              "    <tr>\n",
              "      <th>10024</th>\n",
              "      <td>0.0</td>\n",
              "      <td>0.0</td>\n",
              "      <td>0.0</td>\n",
              "      <td>0.0</td>\n",
              "      <td>0.0</td>\n",
              "      <td>1.0</td>\n",
              "      <td>0.0</td>\n",
              "      <td>0.0</td>\n",
              "      <td>1.0</td>\n",
              "      <td>0.0</td>\n",
              "      <td>0.0</td>\n",
              "      <td>0.0</td>\n",
              "      <td>0.0</td>\n",
              "      <td>0.0</td>\n",
              "      <td>0.0</td>\n",
              "      <td>25.0</td>\n",
              "      <td>65000.0</td>\n",
              "      <td>2.0</td>\n",
              "      <td>10000.0</td>\n",
              "      <td>10.75</td>\n",
              "      <td>0.15</td>\n",
              "      <td>4.0</td>\n",
              "    </tr>\n",
              "    <tr>\n",
              "      <th>30633</th>\n",
              "      <td>0.0</td>\n",
              "      <td>0.0</td>\n",
              "      <td>1.0</td>\n",
              "      <td>0.0</td>\n",
              "      <td>0.0</td>\n",
              "      <td>0.0</td>\n",
              "      <td>0.0</td>\n",
              "      <td>0.0</td>\n",
              "      <td>0.0</td>\n",
              "      <td>0.0</td>\n",
              "      <td>1.0</td>\n",
              "      <td>0.0</td>\n",
              "      <td>0.0</td>\n",
              "      <td>0.0</td>\n",
              "      <td>1.0</td>\n",
              "      <td>36.0</td>\n",
              "      <td>49000.0</td>\n",
              "      <td>0.0</td>\n",
              "      <td>8000.0</td>\n",
              "      <td>15.31</td>\n",
              "      <td>0.16</td>\n",
              "      <td>13.0</td>\n",
              "    </tr>\n",
              "  </tbody>\n",
              "</table>\n",
              "</div>"
            ],
            "text/plain": [
              "       person_home_ownership_OTHER  person_home_ownership_OWN  \\\n",
              "10913                          0.0                        0.0   \n",
              "21010                          0.0                        0.0   \n",
              "14431                          0.0                        0.0   \n",
              "10024                          0.0                        0.0   \n",
              "30633                          0.0                        0.0   \n",
              "\n",
              "       person_home_ownership_RENT  loan_intent_EDUCATION  \\\n",
              "10913                         0.0                    1.0   \n",
              "21010                         0.0                    0.0   \n",
              "14431                         1.0                    0.0   \n",
              "10024                         0.0                    0.0   \n",
              "30633                         1.0                    0.0   \n",
              "\n",
              "       loan_intent_HOMEIMPROVEMENT  loan_intent_MEDICAL  loan_intent_PERSONAL  \\\n",
              "10913                          0.0                  0.0                   0.0   \n",
              "21010                          0.0                  0.0                   1.0   \n",
              "14431                          0.0                  1.0                   0.0   \n",
              "10024                          0.0                  1.0                   0.0   \n",
              "30633                          0.0                  0.0                   0.0   \n",
              "\n",
              "       loan_intent_VENTURE  loan_grade_B  loan_grade_C  loan_grade_D  \\\n",
              "10913                  0.0           0.0           0.0           0.0   \n",
              "21010                  0.0           0.0           0.0           0.0   \n",
              "14431                  0.0           0.0           0.0           0.0   \n",
              "10024                  0.0           1.0           0.0           0.0   \n",
              "30633                  0.0           0.0           0.0           1.0   \n",
              "\n",
              "       loan_grade_E  loan_grade_F  loan_grade_G  cb_person_default_on_file_Y  \\\n",
              "10913           0.0           0.0           0.0                          0.0   \n",
              "21010           0.0           0.0           0.0                          0.0   \n",
              "14431           0.0           0.0           0.0                          0.0   \n",
              "10024           0.0           0.0           0.0                          0.0   \n",
              "30633           0.0           0.0           0.0                          1.0   \n",
              "\n",
              "       person_age  person_income  person_emp_length  loan_amnt  loan_int_rate  \\\n",
              "10913        26.0        70000.0                0.0     7000.0           7.88   \n",
              "21010        32.0        45000.0               16.0     6000.0           7.49   \n",
              "14431        21.0        31200.0                4.0    15000.0           6.62   \n",
              "10024        25.0        65000.0                2.0    10000.0          10.75   \n",
              "30633        36.0        49000.0                0.0     8000.0          15.31   \n",
              "\n",
              "       loan_percent_income  cb_person_cred_hist_length  \n",
              "10913                 0.10                         4.0  \n",
              "21010                 0.13                         6.0  \n",
              "14431                 0.48                         3.0  \n",
              "10024                 0.15                         4.0  \n",
              "30633                 0.16                        13.0  "
            ]
          },
          "metadata": {},
          "execution_count": 57
        }
      ]
    },
    {
      "cell_type": "code",
      "metadata": {
        "colab": {
          "base_uri": "https://localhost:8080/"
        },
        "id": "Sq8q30eK-owA",
        "outputId": "5745d789-7d6f-42eb-91fe-0361bc43ff82"
      },
      "source": [
        "pd.DataFrame(X_train_trans, columns=num_columns).isnull().sum()"
      ],
      "execution_count": null,
      "outputs": [
        {
          "output_type": "execute_result",
          "data": {
            "text/plain": [
              "person_age                    0\n",
              "person_income                 0\n",
              "person_emp_length             0\n",
              "loan_amnt                     0\n",
              "loan_int_rate                 0\n",
              "loan_percent_income           0\n",
              "cb_person_cred_hist_length    0\n",
              "dtype: int64"
            ]
          },
          "metadata": {},
          "execution_count": 58
        }
      ]
    },
    {
      "cell_type": "code",
      "metadata": {
        "colab": {
          "base_uri": "https://localhost:8080/"
        },
        "id": "wLf36_qS-8sS",
        "outputId": "ff07074f-f844-45dc-bb43-8cfb660b4741"
      },
      "source": [
        "pd.DataFrame(X_test_trans, columns=num_columns).isnull().sum()"
      ],
      "execution_count": null,
      "outputs": [
        {
          "output_type": "execute_result",
          "data": {
            "text/plain": [
              "person_age                    0\n",
              "person_income                 0\n",
              "person_emp_length             0\n",
              "loan_amnt                     0\n",
              "loan_int_rate                 0\n",
              "loan_percent_income           0\n",
              "cb_person_cred_hist_length    0\n",
              "dtype: int64"
            ]
          },
          "metadata": {},
          "execution_count": 59
        }
      ]
    },
    {
      "cell_type": "code",
      "metadata": {
        "colab": {
          "base_uri": "https://localhost:8080/",
          "height": 625
        },
        "id": "LItzExsgpo69",
        "outputId": "31618af6-0c8e-479a-c406-298d6b47c29a"
      },
      "source": [
        "plot_correlation(X_train_trans)"
      ],
      "execution_count": null,
      "outputs": [
        {
          "output_type": "display_data",
          "data": {
            "image/png": "[encoded data removed]",
            "text/plain": [
              "<Figure size 720x720 with 2 Axes>"
            ]
          },
          "metadata": {
            "needs_background": "light"
          }
        }
      ]
    },
    {
      "cell_type": "markdown",
      "metadata": {
        "id": "rzzA2TkNpo6-"
      },
      "source": [
        "### Train Model"
      ]
    },
    {
      "cell_type": "code",
      "metadata": {
        "colab": {
          "base_uri": "https://localhost:8080/"
        },
        "id": "BSyB-nAkpo6_",
        "outputId": "7e6f6764-40f7-484e-a211-f04de4a5ef32"
      },
      "source": [
        "from sklearn.linear_model import LogisticRegression  \n",
        "from sklearn.metrics import roc_auc_score\n",
        "\n",
        "lr = LogisticRegression(random_state=SEED, max_iter=1000)\n",
        "lr.fit(X_train_trans, y_train)"
      ],
      "execution_count": null,
      "outputs": [
        {
          "output_type": "execute_result",
          "data": {
            "text/plain": [
              "LogisticRegression(C=1.0, class_weight=None, dual=False, fit_intercept=True,\n",
              "                   intercept_scaling=1, l1_ratio=None, max_iter=1000,\n",
              "                   multi_class='auto', n_jobs=None, penalty='l2',\n",
              "                   random_state=40, solver='lbfgs', tol=0.0001, verbose=0,\n",
              "                   warm_start=False)"
            ]
          },
          "metadata": {},
          "execution_count": 61
        }
      ]
    },
    {
      "cell_type": "code",
      "metadata": {
        "id": "wVY5EP1Qpo7A"
      },
      "source": [
        "yhat_train = lr.predict_proba(X_train_trans)[:, 1]\n",
        "yhat_test = lr.predict_proba(X_test_trans)[:, 1]"
      ],
      "execution_count": null,
      "outputs": []
    },
    {
      "cell_type": "markdown",
      "metadata": {
        "id": "R8V9pClTpo7B"
      },
      "source": [
        "# Base model"
      ]
    },
    {
      "cell_type": "code",
      "metadata": {
        "colab": {
          "base_uri": "https://localhost:8080/"
        },
        "id": "PCQzmlRRpo7B",
        "outputId": "b7400048-77ee-423a-c179-0dcb5015a74e"
      },
      "source": [
        "print(\"ROC-AUC Score Train:\", roc_auc_score(y_train, yhat_train))\n",
        "print(\"ROC-AUC Score Test:\", roc_auc_score(y_test, yhat_test))"
      ],
      "execution_count": null,
      "outputs": [
        {
          "output_type": "stream",
          "name": "stdout",
          "text": [
            "ROC-AUC Score Train: 0.7587944433062064\n",
            "ROC-AUC Score Test: 0.7674799234815666\n"
          ]
        }
      ]
    },
    {
      "cell_type": "code",
      "metadata": {
        "id": "QWpNMDIwpo7C"
      },
      "source": [
        "# https://stackoverflow.com/questions/28719067/roc-curve-and-cut-off-point-python\n",
        "def get_optimal_cutoff(tpr, fpr, thresholds):\n",
        "    i = np.arange(len(tpr)) # index for df\n",
        "    roc = pd.DataFrame({\n",
        "        'fpr' : pd.Series(fpr, index=i),\n",
        "        'tpr' : pd.Series(tpr, index = i), \n",
        "        '1-fpr' : pd.Series(1-fpr, index = i), \n",
        "        'tf' : pd.Series(tpr - (1-fpr), index = i), \n",
        "        'thresholds' : pd.Series(thresholds, index = i)})\n",
        "    \n",
        "    print(roc.iloc[[(roc.tf-0).abs().argmin()]])\n",
        "\n",
        "    # Plot tpr vs 1-fpr\n",
        "    fig, ax = plt.subplots()\n",
        "    _ = plt.plot(roc['tpr'])\n",
        "    _ = plt.plot(roc['1-fpr'], color = 'red')\n",
        "    _ = plt.xlabel('1-False Positive Rate')\n",
        "    _ = plt.ylabel('True Positive Rate')\n",
        "    _ = plt.title('Receiver operating characteristic')\n",
        "    _ = ax.set_xticklabels([])\n",
        "    \n",
        "    \n",
        "def plot_roc_auc(tpr, fpr, labels):\n",
        "    \n",
        "    if (isinstance(tpr, (list, np.array)) and isinstance(fpr, (list, np.array))):\n",
        "        \n",
        "        nlist = len(tpr)\n",
        "        \n",
        "        if all(len(val) == nlist for val in [tpr, fpr, labels]):\n",
        "            pass\n",
        "        else:\n",
        "            raise ValueError('length of parameter should be the same')\n",
        "               \n",
        "        fig, ax = plt.subplots(figsize=(8, 6.5))\n",
        "        _ = sns.despine(ax=ax)\n",
        "        _ = ax.plot([0, 1], [0, 1], color='navy', linestyle='--')\n",
        "        _ = ax.set_xlim([0.0, 1.0])\n",
        "        _ = ax.set_ylim([0.0, 1.05])\n",
        "        _ = ax.set_xlabel('False Positive Rate')\n",
        "        _ = ax.set_ylabel('True Positive Rate')\n",
        "        _ = ax.set_title('Receiver operating characteristic example')\n",
        "        \n",
        "        for i in range(nlist):\n",
        "        \n",
        "            roc_auc = auc(fpr[i], tpr[i])\n",
        "            _ = ax.plot(\n",
        "                fpr[i], \n",
        "                tpr[i], \n",
        "                label=f'ROC curve {labels[i]} (area = {roc_auc: 0.2f}'\n",
        "            )\n",
        "        \n",
        "        _ = fig.legend(loc=\"right\")\n",
        "        \n",
        "    else:\n",
        "        roc_auc = auc(fpr, tpr)\n",
        "        \n",
        "        fig, ax = plt.subplots(figsize=(8, 6.5))\n",
        "        _ = sns.despine(ax=ax)\n",
        "        _ = ax.plot([0, 1], [0, 1], color='navy', linestyle='--')\n",
        "        _ = ax.set_xlim([0.0, 1.0])\n",
        "        _ = ax.set_ylim([0.0, 1.05])\n",
        "        _ = ax.set_xlabel('False Positive Rate')\n",
        "        _ = ax.set_ylabel('True Positive Rate')\n",
        "        _ = ax.set_title('Receiver operating characteristic example')\n",
        "        _ = ax.plot(\n",
        "            fpr, \n",
        "            tpr, \n",
        "            label=f'ROC curve {labels} (area = {roc_auc: 0.2f}'\n",
        "        )\n",
        "        \n",
        "    _ = fig.legend(loc=\"right\")"
      ],
      "execution_count": null,
      "outputs": []
    },
    {
      "cell_type": "code",
      "metadata": {
        "colab": {
          "base_uri": "https://localhost:8080/"
        },
        "id": "Bk09xSk1po7D",
        "outputId": "2212ec1c-d728-45f9-bfa3-2dd8fdaa3a28"
      },
      "source": [
        "from sklearn.metrics import roc_curve, auc, roc_auc_score, classification_report\n",
        "\n",
        "fpr_train, tpr_train, thresholds_train =roc_curve(y_train, \n",
        "                                                  yhat_train)\n",
        "fpr_test, tpr_test, thresholds_test =roc_curve(y_test, \n",
        "                                               yhat_test)\n",
        "\n",
        "roc_auc_train = auc(fpr_train, tpr_train)\n",
        "roc_auc_test = auc(fpr_test, tpr_test)\n",
        "\n",
        "print(\"ROC-AUC TRAIN\", roc_auc_train)\n",
        "print(\"ROC-AUC TEST\", roc_auc_test)"
      ],
      "execution_count": null,
      "outputs": [
        {
          "output_type": "stream",
          "name": "stdout",
          "text": [
            "ROC-AUC TRAIN 0.7587944433062064\n",
            "ROC-AUC TEST 0.7674799234815666\n"
          ]
        }
      ]
    },
    {
      "cell_type": "code",
      "metadata": {
        "colab": {
          "base_uri": "https://localhost:8080/",
          "height": 318
        },
        "id": "xNjsGZajpo7F",
        "outputId": "68a15216-f018-4969-be63-c721eeb6498a"
      },
      "source": [
        "tpr = tpr_test\n",
        "fpr = fpr_test\n",
        "\n",
        "thresholds = thresholds_test\n",
        "get_optimal_cutoff(tpr, fpr, thresholds)"
      ],
      "execution_count": null,
      "outputs": [
        {
          "output_type": "stream",
          "name": "stdout",
          "text": [
            "           fpr       tpr     1-fpr        tf  thresholds\n",
            "1242  0.303847  0.695734  0.696153 -0.000419    0.269973\n"
          ]
        },
        {
          "output_type": "display_data",
          "data": {
            "image/png": "[encoded data removed]",
            "text/plain": [
              "<Figure size 432x288 with 1 Axes>"
            ]
          },
          "metadata": {
            "needs_background": "light"
          }
        }
      ]
    },
    {
      "cell_type": "code",
      "metadata": {
        "colab": {
          "base_uri": "https://localhost:8080/"
        },
        "id": "8wYLqM0Spo7G",
        "outputId": "861a744e-b294-4c4f-be43-f75814da03c1"
      },
      "source": [
        "threshold = 0.5\n",
        "\n",
        "y_pred_train = np.where(yhat_train > 0.276966, 1, 0)\n",
        "y_pred_test = np.where(yhat_test> 0.276966, 1, 0)\n",
        "\n",
        "print(classification_report(y_test, \n",
        "                            y_pred_test))"
      ],
      "execution_count": null,
      "outputs": [
        {
          "output_type": "stream",
          "name": "stdout",
          "text": [
            "              precision    recall  f1-score   support\n",
            "\n",
            "           0       0.89      0.71      0.79      7642\n",
            "           1       0.40      0.69      0.51      2133\n",
            "\n",
            "    accuracy                           0.71      9775\n",
            "   macro avg       0.65      0.70      0.65      9775\n",
            "weighted avg       0.78      0.71      0.73      9775\n",
            "\n"
          ]
        }
      ]
    },
    {
      "cell_type": "code",
      "metadata": {
        "id": "FeuET3H7po7H"
      },
      "source": [
        "# threshold = 0.3312090\n",
        "\n",
        "# y_pred_train = np.where(yhat_train > threshold, 1, 0)\n",
        "# y_pred_test = np.where(yhat_test> threshold, 1, 0)\n",
        "\n",
        "# print(classification_report(y_test, \n",
        "#                             y_pred_test))"
      ],
      "execution_count": null,
      "outputs": []
    },
    {
      "cell_type": "markdown",
      "metadata": {
        "id": "h5JUTmf2po7I"
      },
      "source": [
        "## Model Validation: Cross Validation\n",
        "\n",
        "In k-fold cross-validation, we randomly split the training dataset into k folds without replacement, where k — 1 folds are used for the model training, and one fold is used for performance evaluation. This procedure is repeated k times so that we obtain k models and performance estimates.\n",
        "<img src='Capture3.png'>"
      ]
    },
    {
      "cell_type": "code",
      "metadata": {
        "colab": {
          "base_uri": "https://localhost:8080/"
        },
        "id": "uIx7znoKpo7I",
        "outputId": "0183c61a-564d-4e80-94a6-e25fc9910c08"
      },
      "source": [
        "#Running K-fold CV\n",
        "from sklearn.model_selection import KFold\n",
        "\n",
        "#Defining Kfold\n",
        "kfold = KFold(n_splits=4, shuffle=True, random_state=SEED).split(X_train_trans, y_train)\n",
        "\n",
        "#Defining the model\n",
        "lr = LogisticRegression(random_state=SEED, C=5, max_iter=1000) # try to change C\n",
        "\n",
        "#Initialize empty list for the scores\n",
        "scores = []\n",
        "\n",
        "#Loop the kfold\n",
        "for k, (train, test) in enumerate(kfold):\n",
        "    lr.fit(X_train_trans.iloc[train], y_train.iloc[train])\n",
        "    \n",
        "    yhat = lr.predict_proba(X_train_trans.iloc[test])[:, 1]\n",
        "    score = roc_auc_score(y_train.iloc[test], yhat)\n",
        "    scores.append(score)\n",
        "    print('Fold: %2d, Class dist.: %s, Acc: %.3f' % (k+1,np.bincount(y_train.iloc[train]), score))\n",
        "print('CV accuracy: %.3f +/- %.3f' % (np.mean(scores), np.std(scores)))"
      ],
      "execution_count": null,
      "outputs": [
        {
          "output_type": "stream",
          "name": "stdout",
          "text": [
            "Fold:  1, Class dist.: [13427  3677], Acc: 0.792\n",
            "Fold:  2, Class dist.: [13360  3744], Acc: 0.744\n",
            "Fold:  3, Class dist.: [13340  3765], Acc: 0.769\n",
            "Fold:  4, Class dist.: [13366  3739], Acc: 0.770\n",
            "CV accuracy: 0.769 +/- 0.017\n"
          ]
        }
      ]
    },
    {
      "cell_type": "code",
      "metadata": {
        "colab": {
          "base_uri": "https://localhost:8080/"
        },
        "id": "SLfVmIH8po7J",
        "outputId": "5fdc5844-74a3-4204-b7ac-27db204fbf46"
      },
      "source": [
        "#Running K-fold CV\n",
        "from sklearn.model_selection import StratifiedKFold\n",
        "\n",
        "#Defining Kfold\n",
        "skfold = StratifiedKFold(n_splits=4, shuffle=True, random_state=SEED).split(X_train_trans, y_train)\n",
        "\n",
        "#Defining the model\n",
        "lr = LogisticRegression(random_state=SEED, max_iter=1000)\n",
        "\n",
        "#Initialize empty list for the scores\n",
        "scores = []\n",
        "\n",
        "#Loop the kfold\n",
        "for k, (train, test) in enumerate(skfold):\n",
        "    lr.fit(X_train_trans.iloc[train], y_train.iloc[train])\n",
        "    \n",
        "    yhat = lr.predict_proba(X_train_trans.iloc[test])[:, 1]\n",
        "    score = roc_auc_score(y_train.iloc[test], yhat)\n",
        "    scores.append(score)\n",
        "    print('Fold: %2d, Class dist.: %s, Acc: %.3f' % (k+1,np.bincount(y_train.iloc[train]), score))\n",
        "print('CV accuracy: %.3f +/- %.3f' % (np.mean(scores), np.std(scores)))"
      ],
      "execution_count": null,
      "outputs": [
        {
          "output_type": "stream",
          "name": "stdout",
          "text": [
            "Fold:  1, Class dist.: [13373  3731], Acc: 0.751\n",
            "Fold:  2, Class dist.: [13373  3731], Acc: 0.770\n",
            "Fold:  3, Class dist.: [13373  3732], Acc: 0.760\n",
            "Fold:  4, Class dist.: [13374  3731], Acc: 0.754\n",
            "CV accuracy: 0.759 +/- 0.007\n"
          ]
        }
      ]
    },
    {
      "cell_type": "markdown",
      "metadata": {
        "id": "9T1vQS9dpo7L"
      },
      "source": [
        "## Hyperparameter Tuning"
      ]
    },
    {
      "cell_type": "markdown",
      "metadata": {
        "id": "IaS8ihCapo7L"
      },
      "source": [
        "### Simple Hyperparameter Tuning - GridSearchCV"
      ]
    },
    {
      "cell_type": "code",
      "metadata": {
        "id": "lXeCMe3Hpo7M"
      },
      "source": [
        "from sklearn.utils.fixes import loguniform\n",
        "from sklearn.linear_model import LogisticRegression  \n",
        "from sklearn.model_selection import GridSearchCV\n",
        "\n",
        "lr = LogisticRegression(random_state=SEED)\n",
        "\n",
        "param_space = {\n",
        "    \"C\": [0.0001, 0.001, 0.01, 0.1, 1, 10, 100, 1000],\n",
        "    \"max_iter\": [1000],\n",
        "    \"random_state\": [SEED]\n",
        "}\n",
        "\n",
        "clf = GridSearchCV(lr, \n",
        "                   param_space, \n",
        "                   scoring='roc_auc', \n",
        "                   cv=4, \n",
        "                   refit=True)"
      ],
      "execution_count": null,
      "outputs": []
    },
    {
      "cell_type": "code",
      "metadata": {
        "colab": {
          "base_uri": "https://localhost:8080/"
        },
        "id": "aQW3pq6qpo7N",
        "outputId": "9611dc8c-9b0d-49fa-f62d-f8675501c6e9"
      },
      "source": [
        "clf.fit(X_train_trans, y_train)"
      ],
      "execution_count": null,
      "outputs": [
        {
          "output_type": "execute_result",
          "data": {
            "text/plain": [
              "GridSearchCV(cv=4, error_score=nan,\n",
              "             estimator=LogisticRegression(C=1.0, class_weight=None, dual=False,\n",
              "                                          fit_intercept=True,\n",
              "                                          intercept_scaling=1, l1_ratio=None,\n",
              "                                          max_iter=100, multi_class='auto',\n",
              "                                          n_jobs=None, penalty='l2',\n",
              "                                          random_state=40, solver='lbfgs',\n",
              "                                          tol=0.0001, verbose=0,\n",
              "                                          warm_start=False),\n",
              "             iid='deprecated', n_jobs=None,\n",
              "             param_grid={'C': [0.0001, 0.001, 0.01, 0.1, 1, 10, 100, 1000],\n",
              "                         'max_iter': [1000], 'random_state': [40]},\n",
              "             pre_dispatch='2*n_jobs', refit=True, return_train_score=False,\n",
              "             scoring='roc_auc', verbose=0)"
            ]
          },
          "metadata": {},
          "execution_count": 72
        }
      ]
    },
    {
      "cell_type": "code",
      "metadata": {
        "colab": {
          "base_uri": "https://localhost:8080/"
        },
        "id": "ro4EU0vRpo7O",
        "outputId": "01fa5409-9b99-4426-fc80-0bfa83ed2929"
      },
      "source": [
        "from sklearn.metrics import roc_curve, auc, roc_auc_score, classification_report\n",
        "\n",
        "fpr_train, tpr_train, thresholds_train =roc_curve(y_train, \n",
        "                                                  yhat_train)\n",
        "fpr_test, tpr_test, thresholds_test =roc_curve(y_test, \n",
        "                                               yhat_test)\n",
        "\n",
        "roc_auc_train = auc(fpr_train, tpr_train)\n",
        "roc_auc_test = auc(fpr_test, tpr_test)\n",
        "\n",
        "print(\"ROC-AUC TRAIN\", roc_auc_train)\n",
        "print(\"ROC-AUC TEST\", roc_auc_test)"
      ],
      "execution_count": null,
      "outputs": [
        {
          "output_type": "stream",
          "name": "stdout",
          "text": [
            "ROC-AUC TRAIN 0.7587944433062064\n",
            "ROC-AUC TEST 0.7674799234815666\n"
          ]
        }
      ]
    },
    {
      "cell_type": "markdown",
      "metadata": {
        "id": "lyogkXNPpo7Q"
      },
      "source": [
        "# Pipeline"
      ]
    },
    {
      "cell_type": "markdown",
      "metadata": {
        "id": "Lxo8a6zVpo7Q"
      },
      "source": [
        "### Implement data preprocess to pipeline"
      ]
    },
    {
      "cell_type": "code",
      "metadata": {
        "colab": {
          "base_uri": "https://localhost:8080/"
        },
        "id": "Y3C5OqtXpo7R",
        "outputId": "2de224db-32b3-4a9c-a29f-c45048496f94"
      },
      "source": [
        "from sklearn.compose import ColumnTransformer\n",
        "from sklearn.pipeline import Pipeline\n",
        "from sklearn.preprocessing import StandardScaler\n",
        "\n",
        "\n",
        "cat_pipe = Pipeline(steps=[\n",
        "    ('imputer', SimpleImputer(strategy=\"constant\", fill_value=\"missing\")),\n",
        "    ('ohe', OneHotEncoder(drop=\"first\"))\n",
        "])\n",
        "\n",
        "num_pipe = Pipeline(steps=[\n",
        "    ('scaler', StandardScaler()),\n",
        "    ('imputer',SimpleImputer(missing_values = np.nan, strategy = 'median')),\n",
        "])\n",
        "\n",
        "preprocess = ColumnTransformer(\n",
        "    transformers=[\n",
        "    ('cat', cat_pipe, cat_columns),\n",
        "    ('num', num_pipe, num_columns)\n",
        "], remainder='passthrough')\n",
        "\n",
        "preprocess.fit(X_train)"
      ],
      "execution_count": null,
      "outputs": [
        {
          "output_type": "execute_result",
          "data": {
            "text/plain": [
              "ColumnTransformer(n_jobs=None, remainder='passthrough', sparse_threshold=0.3,\n",
              "                  transformer_weights=None,\n",
              "                  transformers=[('cat',\n",
              "                                 Pipeline(memory=None,\n",
              "                                          steps=[('imputer',\n",
              "                                                  SimpleImputer(add_indicator=False,\n",
              "                                                                copy=True,\n",
              "                                                                fill_value='missing',\n",
              "                                                                missing_values=nan,\n",
              "                                                                strategy='constant',\n",
              "                                                                verbose=0)),\n",
              "                                                 ('ohe',\n",
              "                                                  OneHotEncoder(categories='auto',\n",
              "                                                                drop='first',\n",
              "                                                                dtype=<class 'numpy.flo...\n",
              "                                          steps=[('scaler',\n",
              "                                                  StandardScaler(copy=True,\n",
              "                                                                 with_mean=True,\n",
              "                                                                 with_std=True)),\n",
              "                                                 ('imputer',\n",
              "                                                  SimpleImputer(add_indicator=False,\n",
              "                                                                copy=True,\n",
              "                                                                fill_value=None,\n",
              "                                                                missing_values=nan,\n",
              "                                                                strategy='median',\n",
              "                                                                verbose=0))],\n",
              "                                          verbose=False),\n",
              "                                 ['person_age', 'person_income',\n",
              "                                  'person_emp_length', 'loan_amnt',\n",
              "                                  'loan_int_rate', 'loan_percent_income',\n",
              "                                  'cb_person_cred_hist_length'])],\n",
              "                  verbose=False)"
            ]
          },
          "metadata": {},
          "execution_count": 74
        }
      ]
    },
    {
      "cell_type": "code",
      "metadata": {
        "colab": {
          "base_uri": "https://localhost:8080/"
        },
        "id": "WOFsyHQIAYdV",
        "outputId": "4107c673-5264-40b9-d923-0a84e753c92e"
      },
      "source": [
        "y_train"
      ],
      "execution_count": null,
      "outputs": [
        {
          "output_type": "execute_result",
          "data": {
            "text/plain": [
              "10913    0\n",
              "21010    0\n",
              "14431    1\n",
              "10024    0\n",
              "30633    1\n",
              "        ..\n",
              "18908    0\n",
              "17888    1\n",
              "10625    1\n",
              "27258    0\n",
              "18806    0\n",
              "Name: loan_status, Length: 22806, dtype: int64"
            ]
          },
          "metadata": {},
          "execution_count": 75
        }
      ]
    },
    {
      "cell_type": "code",
      "metadata": {
        "id": "mUihGf0Dpo7T"
      },
      "source": [
        "ohe_columns = preprocess.named_transformers_['cat'].named_steps['ohe'].get_feature_names(cat_columns)\n",
        "\n",
        "final_features = []\n",
        "final_features.extend(ohe_columns)\n",
        "final_features.extend(num_columns)"
      ],
      "execution_count": null,
      "outputs": []
    },
    {
      "cell_type": "code",
      "metadata": {
        "id": "hSIg1rVspo7T"
      },
      "source": [
        "X_train_trans = pd.DataFrame(preprocess.transform(X_train), columns=final_features)\n",
        "X_test_trans = pd.DataFrame(preprocess.transform(X_test), columns=final_features)"
      ],
      "execution_count": null,
      "outputs": []
    },
    {
      "cell_type": "code",
      "metadata": {
        "colab": {
          "base_uri": "https://localhost:8080/",
          "height": 440
        },
        "id": "JdvlP3rLB8nM",
        "outputId": "7dfcf96d-cdf2-4a3e-d69f-27bda08339e2"
      },
      "source": [
        "X_train_trans"
      ],
      "execution_count": null,
      "outputs": [
        {
          "output_type": "execute_result",
          "data": {
            "text/html": [
              "<div>\n",
              "<style scoped>\n",
              "    .dataframe tbody tr th:only-of-type {\n",
              "        vertical-align: middle;\n",
              "    }\n",
              "\n",
              "    .dataframe tbody tr th {\n",
              "        vertical-align: top;\n",
              "    }\n",
              "\n",
              "    .dataframe thead th {\n",
              "        text-align: right;\n",
              "    }\n",
              "</style>\n",
              "<table border=\"1\" class=\"dataframe\">\n",
              "  <thead>\n",
              "    <tr style=\"text-align: right;\">\n",
              "      <th></th>\n",
              "      <th>person_home_ownership_OTHER</th>\n",
              "      <th>person_home_ownership_OWN</th>\n",
              "      <th>person_home_ownership_RENT</th>\n",
              "      <th>loan_intent_EDUCATION</th>\n",
              "      <th>loan_intent_HOMEIMPROVEMENT</th>\n",
              "      <th>loan_intent_MEDICAL</th>\n",
              "      <th>loan_intent_PERSONAL</th>\n",
              "      <th>loan_intent_VENTURE</th>\n",
              "      <th>loan_grade_B</th>\n",
              "      <th>loan_grade_C</th>\n",
              "      <th>loan_grade_D</th>\n",
              "      <th>loan_grade_E</th>\n",
              "      <th>loan_grade_F</th>\n",
              "      <th>loan_grade_G</th>\n",
              "      <th>cb_person_default_on_file_Y</th>\n",
              "      <th>person_age</th>\n",
              "      <th>person_income</th>\n",
              "      <th>person_emp_length</th>\n",
              "      <th>loan_amnt</th>\n",
              "      <th>loan_int_rate</th>\n",
              "      <th>loan_percent_income</th>\n",
              "      <th>cb_person_cred_hist_length</th>\n",
              "    </tr>\n",
              "  </thead>\n",
              "  <tbody>\n",
              "    <tr>\n",
              "      <th>0</th>\n",
              "      <td>0.0</td>\n",
              "      <td>0.0</td>\n",
              "      <td>0.0</td>\n",
              "      <td>1.0</td>\n",
              "      <td>0.0</td>\n",
              "      <td>0.0</td>\n",
              "      <td>0.0</td>\n",
              "      <td>0.0</td>\n",
              "      <td>0.0</td>\n",
              "      <td>0.0</td>\n",
              "      <td>0.0</td>\n",
              "      <td>0.0</td>\n",
              "      <td>0.0</td>\n",
              "      <td>0.0</td>\n",
              "      <td>0.0</td>\n",
              "      <td>-0.272814</td>\n",
              "      <td>0.075369</td>\n",
              "      <td>-1.147320</td>\n",
              "      <td>-0.408744</td>\n",
              "      <td>-0.970416</td>\n",
              "      <td>-0.657636</td>\n",
              "      <td>-0.443188</td>\n",
              "    </tr>\n",
              "    <tr>\n",
              "      <th>1</th>\n",
              "      <td>0.0</td>\n",
              "      <td>0.0</td>\n",
              "      <td>0.0</td>\n",
              "      <td>0.0</td>\n",
              "      <td>0.0</td>\n",
              "      <td>0.0</td>\n",
              "      <td>1.0</td>\n",
              "      <td>0.0</td>\n",
              "      <td>0.0</td>\n",
              "      <td>0.0</td>\n",
              "      <td>0.0</td>\n",
              "      <td>0.0</td>\n",
              "      <td>0.0</td>\n",
              "      <td>0.0</td>\n",
              "      <td>0.0</td>\n",
              "      <td>0.677320</td>\n",
              "      <td>-0.386909</td>\n",
              "      <td>2.687323</td>\n",
              "      <td>-0.566928</td>\n",
              "      <td>-1.090685</td>\n",
              "      <td>-0.375743</td>\n",
              "      <td>0.048606</td>\n",
              "    </tr>\n",
              "    <tr>\n",
              "      <th>2</th>\n",
              "      <td>0.0</td>\n",
              "      <td>0.0</td>\n",
              "      <td>1.0</td>\n",
              "      <td>0.0</td>\n",
              "      <td>0.0</td>\n",
              "      <td>1.0</td>\n",
              "      <td>0.0</td>\n",
              "      <td>0.0</td>\n",
              "      <td>0.0</td>\n",
              "      <td>0.0</td>\n",
              "      <td>0.0</td>\n",
              "      <td>0.0</td>\n",
              "      <td>0.0</td>\n",
              "      <td>0.0</td>\n",
              "      <td>0.0</td>\n",
              "      <td>-1.064593</td>\n",
              "      <td>-0.642087</td>\n",
              "      <td>-0.188660</td>\n",
              "      <td>0.856730</td>\n",
              "      <td>-1.358980</td>\n",
              "      <td>2.913016</td>\n",
              "      <td>-0.689085</td>\n",
              "    </tr>\n",
              "    <tr>\n",
              "      <th>3</th>\n",
              "      <td>0.0</td>\n",
              "      <td>0.0</td>\n",
              "      <td>0.0</td>\n",
              "      <td>0.0</td>\n",
              "      <td>0.0</td>\n",
              "      <td>1.0</td>\n",
              "      <td>0.0</td>\n",
              "      <td>0.0</td>\n",
              "      <td>1.0</td>\n",
              "      <td>0.0</td>\n",
              "      <td>0.0</td>\n",
              "      <td>0.0</td>\n",
              "      <td>0.0</td>\n",
              "      <td>0.0</td>\n",
              "      <td>0.0</td>\n",
              "      <td>-0.431170</td>\n",
              "      <td>-0.017087</td>\n",
              "      <td>-0.667990</td>\n",
              "      <td>0.065809</td>\n",
              "      <td>-0.085353</td>\n",
              "      <td>-0.187814</td>\n",
              "      <td>-0.443188</td>\n",
              "    </tr>\n",
              "    <tr>\n",
              "      <th>4</th>\n",
              "      <td>0.0</td>\n",
              "      <td>0.0</td>\n",
              "      <td>1.0</td>\n",
              "      <td>0.0</td>\n",
              "      <td>0.0</td>\n",
              "      <td>0.0</td>\n",
              "      <td>0.0</td>\n",
              "      <td>0.0</td>\n",
              "      <td>0.0</td>\n",
              "      <td>0.0</td>\n",
              "      <td>1.0</td>\n",
              "      <td>0.0</td>\n",
              "      <td>0.0</td>\n",
              "      <td>0.0</td>\n",
              "      <td>1.0</td>\n",
              "      <td>1.310743</td>\n",
              "      <td>-0.312945</td>\n",
              "      <td>-1.147320</td>\n",
              "      <td>-0.250559</td>\n",
              "      <td>1.320879</td>\n",
              "      <td>-0.093849</td>\n",
              "      <td>1.769885</td>\n",
              "    </tr>\n",
              "    <tr>\n",
              "      <th>...</th>\n",
              "      <td>...</td>\n",
              "      <td>...</td>\n",
              "      <td>...</td>\n",
              "      <td>...</td>\n",
              "      <td>...</td>\n",
              "      <td>...</td>\n",
              "      <td>...</td>\n",
              "      <td>...</td>\n",
              "      <td>...</td>\n",
              "      <td>...</td>\n",
              "      <td>...</td>\n",
              "      <td>...</td>\n",
              "      <td>...</td>\n",
              "      <td>...</td>\n",
              "      <td>...</td>\n",
              "      <td>...</td>\n",
              "      <td>...</td>\n",
              "      <td>...</td>\n",
              "      <td>...</td>\n",
              "      <td>...</td>\n",
              "      <td>...</td>\n",
              "      <td>...</td>\n",
              "    </tr>\n",
              "    <tr>\n",
              "      <th>22801</th>\n",
              "      <td>0.0</td>\n",
              "      <td>0.0</td>\n",
              "      <td>1.0</td>\n",
              "      <td>0.0</td>\n",
              "      <td>0.0</td>\n",
              "      <td>0.0</td>\n",
              "      <td>0.0</td>\n",
              "      <td>1.0</td>\n",
              "      <td>0.0</td>\n",
              "      <td>0.0</td>\n",
              "      <td>0.0</td>\n",
              "      <td>0.0</td>\n",
              "      <td>0.0</td>\n",
              "      <td>0.0</td>\n",
              "      <td>0.0</td>\n",
              "      <td>-0.114458</td>\n",
              "      <td>-0.753033</td>\n",
              "      <td>-0.667990</td>\n",
              "      <td>-1.231302</td>\n",
              "      <td>-1.315806</td>\n",
              "      <td>-0.939530</td>\n",
              "      <td>1.032194</td>\n",
              "    </tr>\n",
              "    <tr>\n",
              "      <th>22802</th>\n",
              "      <td>0.0</td>\n",
              "      <td>0.0</td>\n",
              "      <td>1.0</td>\n",
              "      <td>0.0</td>\n",
              "      <td>0.0</td>\n",
              "      <td>1.0</td>\n",
              "      <td>0.0</td>\n",
              "      <td>0.0</td>\n",
              "      <td>1.0</td>\n",
              "      <td>0.0</td>\n",
              "      <td>0.0</td>\n",
              "      <td>0.0</td>\n",
              "      <td>0.0</td>\n",
              "      <td>0.0</td>\n",
              "      <td>0.0</td>\n",
              "      <td>0.994032</td>\n",
              "      <td>-0.087353</td>\n",
              "      <td>3.166653</td>\n",
              "      <td>3.229494</td>\n",
              "      <td>0.210696</td>\n",
              "      <td>3.006981</td>\n",
              "      <td>0.540400</td>\n",
              "    </tr>\n",
              "    <tr>\n",
              "      <th>22803</th>\n",
              "      <td>0.0</td>\n",
              "      <td>0.0</td>\n",
              "      <td>0.0</td>\n",
              "      <td>0.0</td>\n",
              "      <td>1.0</td>\n",
              "      <td>0.0</td>\n",
              "      <td>0.0</td>\n",
              "      <td>0.0</td>\n",
              "      <td>0.0</td>\n",
              "      <td>1.0</td>\n",
              "      <td>0.0</td>\n",
              "      <td>0.0</td>\n",
              "      <td>0.0</td>\n",
              "      <td>0.0</td>\n",
              "      <td>0.0</td>\n",
              "      <td>-0.589526</td>\n",
              "      <td>-0.043307</td>\n",
              "      <td>-0.428325</td>\n",
              "      <td>0.698546</td>\n",
              "      <td>0.870638</td>\n",
              "      <td>0.469938</td>\n",
              "      <td>-0.689085</td>\n",
              "    </tr>\n",
              "    <tr>\n",
              "      <th>22804</th>\n",
              "      <td>0.0</td>\n",
              "      <td>0.0</td>\n",
              "      <td>0.0</td>\n",
              "      <td>1.0</td>\n",
              "      <td>0.0</td>\n",
              "      <td>0.0</td>\n",
              "      <td>0.0</td>\n",
              "      <td>0.0</td>\n",
              "      <td>0.0</td>\n",
              "      <td>0.0</td>\n",
              "      <td>0.0</td>\n",
              "      <td>0.0</td>\n",
              "      <td>0.0</td>\n",
              "      <td>0.0</td>\n",
              "      <td>0.0</td>\n",
              "      <td>0.202253</td>\n",
              "      <td>1.184835</td>\n",
              "      <td>0.051006</td>\n",
              "      <td>2.406936</td>\n",
              "      <td>-1.090685</td>\n",
              "      <td>0.188044</td>\n",
              "      <td>1.032194</td>\n",
              "    </tr>\n",
              "    <tr>\n",
              "      <th>22805</th>\n",
              "      <td>0.0</td>\n",
              "      <td>1.0</td>\n",
              "      <td>0.0</td>\n",
              "      <td>0.0</td>\n",
              "      <td>1.0</td>\n",
              "      <td>0.0</td>\n",
              "      <td>0.0</td>\n",
              "      <td>0.0</td>\n",
              "      <td>0.0</td>\n",
              "      <td>0.0</td>\n",
              "      <td>0.0</td>\n",
              "      <td>0.0</td>\n",
              "      <td>0.0</td>\n",
              "      <td>0.0</td>\n",
              "      <td>0.0</td>\n",
              "      <td>0.360609</td>\n",
              "      <td>-0.719749</td>\n",
              "      <td>-0.188660</td>\n",
              "      <td>-0.851660</td>\n",
              "      <td>-0.970416</td>\n",
              "      <td>-0.093849</td>\n",
              "      <td>0.786297</td>\n",
              "    </tr>\n",
              "  </tbody>\n",
              "</table>\n",
              "<p>22806 rows × 22 columns</p>\n",
              "</div>"
            ],
            "text/plain": [
              "       person_home_ownership_OTHER  person_home_ownership_OWN  \\\n",
              "0                              0.0                        0.0   \n",
              "1                              0.0                        0.0   \n",
              "2                              0.0                        0.0   \n",
              "3                              0.0                        0.0   \n",
              "4                              0.0                        0.0   \n",
              "...                            ...                        ...   \n",
              "22801                          0.0                        0.0   \n",
              "22802                          0.0                        0.0   \n",
              "22803                          0.0                        0.0   \n",
              "22804                          0.0                        0.0   \n",
              "22805                          0.0                        1.0   \n",
              "\n",
              "       person_home_ownership_RENT  loan_intent_EDUCATION  \\\n",
              "0                             0.0                    1.0   \n",
              "1                             0.0                    0.0   \n",
              "2                             1.0                    0.0   \n",
              "3                             0.0                    0.0   \n",
              "4                             1.0                    0.0   \n",
              "...                           ...                    ...   \n",
              "22801                         1.0                    0.0   \n",
              "22802                         1.0                    0.0   \n",
              "22803                         0.0                    0.0   \n",
              "22804                         0.0                    1.0   \n",
              "22805                         0.0                    0.0   \n",
              "\n",
              "       loan_intent_HOMEIMPROVEMENT  loan_intent_MEDICAL  loan_intent_PERSONAL  \\\n",
              "0                              0.0                  0.0                   0.0   \n",
              "1                              0.0                  0.0                   1.0   \n",
              "2                              0.0                  1.0                   0.0   \n",
              "3                              0.0                  1.0                   0.0   \n",
              "4                              0.0                  0.0                   0.0   \n",
              "...                            ...                  ...                   ...   \n",
              "22801                          0.0                  0.0                   0.0   \n",
              "22802                          0.0                  1.0                   0.0   \n",
              "22803                          1.0                  0.0                   0.0   \n",
              "22804                          0.0                  0.0                   0.0   \n",
              "22805                          1.0                  0.0                   0.0   \n",
              "\n",
              "       loan_intent_VENTURE  loan_grade_B  loan_grade_C  loan_grade_D  \\\n",
              "0                      0.0           0.0           0.0           0.0   \n",
              "1                      0.0           0.0           0.0           0.0   \n",
              "2                      0.0           0.0           0.0           0.0   \n",
              "3                      0.0           1.0           0.0           0.0   \n",
              "4                      0.0           0.0           0.0           1.0   \n",
              "...                    ...           ...           ...           ...   \n",
              "22801                  1.0           0.0           0.0           0.0   \n",
              "22802                  0.0           1.0           0.0           0.0   \n",
              "22803                  0.0           0.0           1.0           0.0   \n",
              "22804                  0.0           0.0           0.0           0.0   \n",
              "22805                  0.0           0.0           0.0           0.0   \n",
              "\n",
              "       loan_grade_E  loan_grade_F  loan_grade_G  cb_person_default_on_file_Y  \\\n",
              "0               0.0           0.0           0.0                          0.0   \n",
              "1               0.0           0.0           0.0                          0.0   \n",
              "2               0.0           0.0           0.0                          0.0   \n",
              "3               0.0           0.0           0.0                          0.0   \n",
              "4               0.0           0.0           0.0                          1.0   \n",
              "...             ...           ...           ...                          ...   \n",
              "22801           0.0           0.0           0.0                          0.0   \n",
              "22802           0.0           0.0           0.0                          0.0   \n",
              "22803           0.0           0.0           0.0                          0.0   \n",
              "22804           0.0           0.0           0.0                          0.0   \n",
              "22805           0.0           0.0           0.0                          0.0   \n",
              "\n",
              "       person_age  person_income  person_emp_length  loan_amnt  loan_int_rate  \\\n",
              "0       -0.272814       0.075369          -1.147320  -0.408744      -0.970416   \n",
              "1        0.677320      -0.386909           2.687323  -0.566928      -1.090685   \n",
              "2       -1.064593      -0.642087          -0.188660   0.856730      -1.358980   \n",
              "3       -0.431170      -0.017087          -0.667990   0.065809      -0.085353   \n",
              "4        1.310743      -0.312945          -1.147320  -0.250559       1.320879   \n",
              "...           ...            ...                ...        ...            ...   \n",
              "22801   -0.114458      -0.753033          -0.667990  -1.231302      -1.315806   \n",
              "22802    0.994032      -0.087353           3.166653   3.229494       0.210696   \n",
              "22803   -0.589526      -0.043307          -0.428325   0.698546       0.870638   \n",
              "22804    0.202253       1.184835           0.051006   2.406936      -1.090685   \n",
              "22805    0.360609      -0.719749          -0.188660  -0.851660      -0.970416   \n",
              "\n",
              "       loan_percent_income  cb_person_cred_hist_length  \n",
              "0                -0.657636                   -0.443188  \n",
              "1                -0.375743                    0.048606  \n",
              "2                 2.913016                   -0.689085  \n",
              "3                -0.187814                   -0.443188  \n",
              "4                -0.093849                    1.769885  \n",
              "...                    ...                         ...  \n",
              "22801            -0.939530                    1.032194  \n",
              "22802             3.006981                    0.540400  \n",
              "22803             0.469938                   -0.689085  \n",
              "22804             0.188044                    1.032194  \n",
              "22805            -0.093849                    0.786297  \n",
              "\n",
              "[22806 rows x 22 columns]"
            ]
          },
          "metadata": {},
          "execution_count": 78
        }
      ]
    },
    {
      "cell_type": "code",
      "metadata": {
        "colab": {
          "base_uri": "https://localhost:8080/"
        },
        "id": "LEiReZJEpo7U",
        "outputId": "84ddeaaa-544c-482b-d7d7-d0e6bb2a8a34"
      },
      "source": [
        "lr = LogisticRegression(random_state=SEED, max_iter=1000)\n",
        "lr.fit(X_train_trans, y_train)"
      ],
      "execution_count": null,
      "outputs": [
        {
          "output_type": "execute_result",
          "data": {
            "text/plain": [
              "LogisticRegression(C=1.0, class_weight=None, dual=False, fit_intercept=True,\n",
              "                   intercept_scaling=1, l1_ratio=None, max_iter=1000,\n",
              "                   multi_class='auto', n_jobs=None, penalty='l2',\n",
              "                   random_state=40, solver='lbfgs', tol=0.0001, verbose=0,\n",
              "                   warm_start=False)"
            ]
          },
          "metadata": {},
          "execution_count": 79
        }
      ]
    },
    {
      "cell_type": "code",
      "metadata": {
        "id": "xJk7P1v9po7V"
      },
      "source": [
        "yhat_train = lr.predict_proba(X_train_trans)[:, 1]\n",
        "yhat_test = lr.predict_proba(X_test_trans)[:, 1]"
      ],
      "execution_count": null,
      "outputs": []
    },
    {
      "cell_type": "code",
      "metadata": {
        "colab": {
          "base_uri": "https://localhost:8080/"
        },
        "id": "dG6rBLi9po7W",
        "outputId": "c4b41ee9-7e29-4fcc-b4ac-e3c312c53188"
      },
      "source": [
        "from sklearn.metrics import roc_curve, auc, roc_auc_score, classification_report\n",
        "\n",
        "fpr_train, tpr_train, thresholds_train =roc_curve(y_train, \n",
        "                                                  yhat_train)\n",
        "fpr_test, tpr_test, thresholds_test =roc_curve(y_test, \n",
        "                                               yhat_test)\n",
        "\n",
        "roc_auc_train = auc(fpr_train, tpr_train)\n",
        "roc_auc_test = auc(fpr_test, tpr_test)\n",
        "\n",
        "print(\"ROC-AUC TRAIN\", roc_auc_train)\n",
        "print(\"ROC-AUC TEST\", roc_auc_test)"
      ],
      "execution_count": null,
      "outputs": [
        {
          "output_type": "stream",
          "name": "stdout",
          "text": [
            "ROC-AUC TRAIN 0.8690897592668629\n",
            "ROC-AUC TEST 0.8714459890704428\n"
          ]
        }
      ]
    },
    {
      "cell_type": "markdown",
      "metadata": {
        "id": "cgUXHC5lpo7W"
      },
      "source": [
        "### Full Pipeline"
      ]
    },
    {
      "cell_type": "code",
      "metadata": {
        "id": "LzitB4gqpo7X"
      },
      "source": [
        "from sklearn.compose import ColumnTransformer\n",
        "from sklearn.pipeline import Pipeline\n",
        "from sklearn.preprocessing import StandardScaler\n",
        "\n",
        "\n",
        "cat_pipe = Pipeline(steps=[\n",
        "    ('imputer', SimpleImputer(strategy=\"constant\", fill_value=\"missing\")),\n",
        "    ('ohe', OneHotEncoder(drop=\"first\"))\n",
        "])\n",
        "\n",
        "num_pipe = Pipeline(steps=[\n",
        "    ('scaler', StandardScaler()),\n",
        "    ('imputer',SimpleImputer(missing_values = np.nan, strategy = 'median')),\n",
        "])\n",
        "\n",
        "preprocess = ColumnTransformer(transformers=[\n",
        "    ('cat', cat_pipe, cat_columns),\n",
        "    ('num', num_pipe, num_columns)\n",
        "], remainder='passthrough')\n",
        "\n",
        "\n",
        "full_pipe = Pipeline(steps=[\n",
        "    ('preprocess', preprocess),\n",
        "    ('model', LogisticRegression(random_state=SEED, max_iter=1000))\n",
        "])"
      ],
      "execution_count": null,
      "outputs": []
    },
    {
      "cell_type": "code",
      "metadata": {
        "colab": {
          "base_uri": "https://localhost:8080/"
        },
        "id": "X0JusQNUpo7Y",
        "outputId": "9e4ae807-833c-448f-903b-ce25e06de7b9"
      },
      "source": [
        "full_pipe.fit(X_train, y_train)"
      ],
      "execution_count": null,
      "outputs": [
        {
          "output_type": "execute_result",
          "data": {
            "text/plain": [
              "Pipeline(memory=None,\n",
              "         steps=[('preprocess',\n",
              "                 ColumnTransformer(n_jobs=None, remainder='passthrough',\n",
              "                                   sparse_threshold=0.3,\n",
              "                                   transformer_weights=None,\n",
              "                                   transformers=[('cat',\n",
              "                                                  Pipeline(memory=None,\n",
              "                                                           steps=[('imputer',\n",
              "                                                                   SimpleImputer(add_indicator=False,\n",
              "                                                                                 copy=True,\n",
              "                                                                                 fill_value='missing',\n",
              "                                                                                 missing_values=nan,\n",
              "                                                                                 strategy='constant',\n",
              "                                                                                 verbose=0)),\n",
              "                                                                  ('ohe',\n",
              "                                                                   OneHotEncoder(categories=...\n",
              "                                                   'loan_amnt', 'loan_int_rate',\n",
              "                                                   'loan_percent_income',\n",
              "                                                   'cb_person_cred_hist_length'])],\n",
              "                                   verbose=False)),\n",
              "                ('model',\n",
              "                 LogisticRegression(C=1.0, class_weight=None, dual=False,\n",
              "                                    fit_intercept=True, intercept_scaling=1,\n",
              "                                    l1_ratio=None, max_iter=1000,\n",
              "                                    multi_class='auto', n_jobs=None,\n",
              "                                    penalty='l2', random_state=40,\n",
              "                                    solver='lbfgs', tol=0.0001, verbose=0,\n",
              "                                    warm_start=False))],\n",
              "         verbose=False)"
            ]
          },
          "metadata": {},
          "execution_count": 83
        }
      ]
    },
    {
      "cell_type": "code",
      "metadata": {
        "colab": {
          "base_uri": "https://localhost:8080/"
        },
        "id": "cxvKNsDbpo7Z",
        "outputId": "56741706-c0ac-468b-9edf-e9f13b16420d"
      },
      "source": [
        "from sklearn.metrics import roc_curve, auc, roc_auc_score, classification_report\n",
        "\n",
        "\n",
        "yhat_train = full_pipe.predict_proba(X_train)[:, 1]\n",
        "yhat_test = full_pipe.predict_proba(X_test)[:, 1]\n",
        "\n",
        "fpr_train, tpr_train, thresholds_train =roc_curve(y_train, \n",
        "                                                  yhat_train)\n",
        "fpr_test, tpr_test, thresholds_test =roc_curve(y_test, \n",
        "                                               yhat_test)\n",
        "\n",
        "roc_auc_train = auc(fpr_train, tpr_train)\n",
        "roc_auc_test = auc(fpr_test, tpr_test)\n",
        "\n",
        "print(\"ROC-AUC TRAIN\", roc_auc_train)\n",
        "print(\"ROC-AUC TEST\", roc_auc_test)"
      ],
      "execution_count": null,
      "outputs": [
        {
          "output_type": "stream",
          "name": "stdout",
          "text": [
            "ROC-AUC TRAIN 0.8690897592668629\n",
            "ROC-AUC TEST 0.8714459890704428\n"
          ]
        }
      ]
    },
    {
      "cell_type": "markdown",
      "metadata": {
        "id": "Fy6ZRORHpo7Z"
      },
      "source": [
        "### Hyperparameter Tuning with Pipeline - GridSearchCV"
      ]
    },
    {
      "cell_type": "code",
      "metadata": {
        "id": "_tpNVXjWpo7a"
      },
      "source": [
        "from sklearn.compose import ColumnTransformer\n",
        "from sklearn.pipeline import Pipeline\n",
        "from sklearn.preprocessing import StandardScaler\n",
        "\n",
        "\n",
        "cat_pipe = Pipeline(steps=[\n",
        "    ('imputer', SimpleImputer(strategy=\"constant\", fill_value=\"missing\")),\n",
        "    ('ohe', OneHotEncoder(drop=\"first\"))\n",
        "])\n",
        "\n",
        "num_pipe = Pipeline(steps=[\n",
        "    ('scaler', StandardScaler()),\n",
        "    ('imputer',SimpleImputer(missing_values = np.nan, strategy = 'median')),\n",
        "])\n",
        "\n",
        "preprocess = ColumnTransformer(transformers=[\n",
        "    ('cat', cat_pipe, cat_columns),\n",
        "    ('num', num_pipe, num_columns)\n",
        "], remainder='passthrough')\n",
        "\n",
        "\n",
        "full_pipe = Pipeline(steps=[\n",
        "    ('preprocess', preprocess),\n",
        "    ('model', LogisticRegression(random_state=SEED, max_iter=1000))\n",
        "])"
      ],
      "execution_count": null,
      "outputs": []
    },
    {
      "cell_type": "code",
      "metadata": {
        "id": "z0q4_0f9po7b"
      },
      "source": [
        "param_space = {\n",
        "    \"model__C\": [0.0001, 0.001, 0.01, 0.1, 2, 1, 3, 4, 5, 10, 100, 1000],\n",
        "    \"model__max_iter\": [1000],\n",
        "    \"model__random_state\": [SEED]\n",
        "}\n",
        "\n",
        "clf = GridSearchCV(full_pipe, \n",
        "                   param_space, \n",
        "                   scoring='roc_auc', \n",
        "                   cv=5, \n",
        "                   refit=True)"
      ],
      "execution_count": null,
      "outputs": []
    },
    {
      "cell_type": "code",
      "metadata": {
        "colab": {
          "base_uri": "https://localhost:8080/"
        },
        "id": "O96H7AEtpo7b",
        "outputId": "e676d271-2fdc-4897-b182-51f93e01d71f"
      },
      "source": [
        "clf.fit(X_train, y_train)"
      ],
      "execution_count": null,
      "outputs": [
        {
          "output_type": "execute_result",
          "data": {
            "text/plain": [
              "GridSearchCV(cv=5, error_score=nan,\n",
              "             estimator=Pipeline(memory=None,\n",
              "                                steps=[('preprocess',\n",
              "                                        ColumnTransformer(n_jobs=None,\n",
              "                                                          remainder='passthrough',\n",
              "                                                          sparse_threshold=0.3,\n",
              "                                                          transformer_weights=None,\n",
              "                                                          transformers=[('cat',\n",
              "                                                                         Pipeline(memory=None,\n",
              "                                                                                  steps=[('imputer',\n",
              "                                                                                          SimpleImputer(add_indicator=False,\n",
              "                                                                                                        copy=True,\n",
              "                                                                                                        fill_value='missing',\n",
              "                                                                                                        missing_values=nan,\n",
              "                                                                                                        strategy='constant',...\n",
              "                                                           n_jobs=None,\n",
              "                                                           penalty='l2',\n",
              "                                                           random_state=40,\n",
              "                                                           solver='lbfgs',\n",
              "                                                           tol=0.0001,\n",
              "                                                           verbose=0,\n",
              "                                                           warm_start=False))],\n",
              "                                verbose=False),\n",
              "             iid='deprecated', n_jobs=None,\n",
              "             param_grid={'model__C': [0.0001, 0.001, 0.01, 0.1, 2, 1, 3, 4, 5,\n",
              "                                      10, 100, 1000],\n",
              "                         'model__max_iter': [1000],\n",
              "                         'model__random_state': [40]},\n",
              "             pre_dispatch='2*n_jobs', refit=True, return_train_score=False,\n",
              "             scoring='roc_auc', verbose=0)"
            ]
          },
          "metadata": {},
          "execution_count": 87
        }
      ]
    },
    {
      "cell_type": "code",
      "metadata": {
        "colab": {
          "base_uri": "https://localhost:8080/"
        },
        "id": "-GZLF6Wwpo7c",
        "outputId": "bccd73b6-4652-4c87-db9f-97745ff2bc35"
      },
      "source": [
        "clf.best_params_"
      ],
      "execution_count": null,
      "outputs": [
        {
          "output_type": "execute_result",
          "data": {
            "text/plain": [
              "{'model__C': 10, 'model__max_iter': 1000, 'model__random_state': 40}"
            ]
          },
          "metadata": {},
          "execution_count": 88
        }
      ]
    },
    {
      "cell_type": "code",
      "metadata": {
        "colab": {
          "base_uri": "https://localhost:8080/"
        },
        "id": "d_lfQMVYpo7d",
        "outputId": "3baa4cac-3698-4130-cb1c-bce9ea0ecbdf"
      },
      "source": [
        "clf.best_estimator_.named_steps['model']"
      ],
      "execution_count": null,
      "outputs": [
        {
          "output_type": "execute_result",
          "data": {
            "text/plain": [
              "LogisticRegression(C=10, class_weight=None, dual=False, fit_intercept=True,\n",
              "                   intercept_scaling=1, l1_ratio=None, max_iter=1000,\n",
              "                   multi_class='auto', n_jobs=None, penalty='l2',\n",
              "                   random_state=40, solver='lbfgs', tol=0.0001, verbose=0,\n",
              "                   warm_start=False)"
            ]
          },
          "metadata": {},
          "execution_count": 89
        }
      ]
    },
    {
      "cell_type": "code",
      "metadata": {
        "id": "TUIo6dMhpo7e"
      },
      "source": [
        "yhat_train = clf.predict_proba(X_train)[:, 1]\n",
        "yhat_test = clf.predict_proba(X_test)[:, 1]"
      ],
      "execution_count": null,
      "outputs": []
    },
    {
      "cell_type": "code",
      "metadata": {
        "colab": {
          "base_uri": "https://localhost:8080/"
        },
        "id": "am5dp3RDpo7e",
        "outputId": "e7203c2a-236c-4510-90a6-7d5ffac570a5"
      },
      "source": [
        "from sklearn.metrics import roc_curve, auc, roc_auc_score, classification_report\n",
        "\n",
        "fpr_train, tpr_train, thresholds_train =roc_curve(y_train, \n",
        "                                                  yhat_train)\n",
        "fpr_test, tpr_test, thresholds_test =roc_curve(y_test, \n",
        "                                               yhat_test)\n",
        "\n",
        "roc_auc_train = auc(fpr_train, tpr_train)\n",
        "roc_auc_test = auc(fpr_test, tpr_test)\n",
        "\n",
        "print(\"ROC-AUC TRAIN\", roc_auc_train)\n",
        "print(\"ROC-AUC TEST\", roc_auc_test)"
      ],
      "execution_count": null,
      "outputs": [
        {
          "output_type": "stream",
          "name": "stdout",
          "text": [
            "ROC-AUC TRAIN 0.8691510155792703\n",
            "ROC-AUC TEST 0.8716780694641219\n"
          ]
        }
      ]
    },
    {
      "cell_type": "code",
      "metadata": {
        "colab": {
          "base_uri": "https://localhost:8080/",
          "height": 318
        },
        "id": "Cry7RmKepo7g",
        "outputId": "3d06ad0e-5d28-46df-dabc-ac3136ef1b46"
      },
      "source": [
        "tpr = tpr_test\n",
        "fpr = fpr_test\n",
        "\n",
        "thresholds = thresholds_test\n",
        "get_optimal_cutoff(tpr, fpr, thresholds)"
      ],
      "execution_count": null,
      "outputs": [
        {
          "output_type": "stream",
          "name": "stdout",
          "text": [
            "           fpr       tpr     1-fpr        tf  thresholds\n",
            "1172  0.202957  0.796062  0.797043 -0.000981    0.199924\n"
          ]
        },
        {
          "output_type": "display_data",
          "data": {
            "image/png": "[encoded data removed]",
            "text/plain": [
              "<Figure size 432x288 with 1 Axes>"
            ]
          },
          "metadata": {
            "needs_background": "light"
          }
        }
      ]
    },
    {
      "cell_type": "code",
      "metadata": {
        "colab": {
          "base_uri": "https://localhost:8080/"
        },
        "id": "8ocl9Ktopo7h",
        "outputId": "9785f0f4-973f-4620-c0e0-c7a7d4aea745"
      },
      "source": [
        "threshold = 0.5\n",
        "\n",
        "y_pred_train = np.where(yhat_train > threshold, 1, 0)\n",
        "y_pred_test = np.where(yhat_test> threshold, 1, 0)\n",
        "\n",
        "print(classification_report(y_test, \n",
        "                            y_pred_test))"
      ],
      "execution_count": null,
      "outputs": [
        {
          "output_type": "stream",
          "name": "stdout",
          "text": [
            "              precision    recall  f1-score   support\n",
            "\n",
            "           0       0.89      0.95      0.92      7642\n",
            "           1       0.78      0.56      0.65      2133\n",
            "\n",
            "    accuracy                           0.87      9775\n",
            "   macro avg       0.83      0.76      0.79      9775\n",
            "weighted avg       0.86      0.87      0.86      9775\n",
            "\n"
          ]
        }
      ]
    },
    {
      "cell_type": "code",
      "metadata": {
        "colab": {
          "base_uri": "https://localhost:8080/"
        },
        "id": "BTd3Silrpo7h",
        "outputId": "1a967bab-8810-4a2b-807e-6efdd69e616c"
      },
      "source": [
        "threshold = 0.313929\n",
        "\n",
        "y_pred_train = np.where(yhat_train > threshold, 1, 0)\n",
        "y_pred_test = np.where(yhat_test> threshold, 1, 0)\n",
        "\n",
        "print(classification_report(y_test, \n",
        "                            y_pred_test))"
      ],
      "execution_count": null,
      "outputs": [
        {
          "output_type": "stream",
          "name": "stdout",
          "text": [
            "              precision    recall  f1-score   support\n",
            "\n",
            "           0       0.92      0.89      0.90      7642\n",
            "           1       0.64      0.71      0.68      2133\n",
            "\n",
            "    accuracy                           0.85      9775\n",
            "   macro avg       0.78      0.80      0.79      9775\n",
            "weighted avg       0.86      0.85      0.85      9775\n",
            "\n"
          ]
        }
      ]
    },
    {
      "cell_type": "code",
      "metadata": {
        "colab": {
          "base_uri": "https://localhost:8080/"
        },
        "id": "x0iL0W5opo7i",
        "outputId": "595646a9-4f1b-4fca-e391-13691dd9b48a"
      },
      "source": [
        "X_train.loc[:, 'loan_status'] = y_train\n",
        "X_train.loc[:, 'score_proba'] = yhat_train\n",
        "X_test.loc[:, 'loan_status'] = y_test\n",
        "X_test.loc[:, 'score_proba'] = yhat_test"
      ],
      "execution_count": null,
      "outputs": [
        {
          "output_type": "stream",
          "name": "stderr",
          "text": [
            "/usr/local/lib/python3.7/dist-packages/pandas/core/indexing.py:1596: SettingWithCopyWarning: \n",
            "A value is trying to be set on a copy of a slice from a DataFrame.\n",
            "Try using .loc[row_indexer,col_indexer] = value instead\n",
            "\n",
            "See the caveats in the documentation: https://pandas.pydata.org/pandas-docs/stable/user_guide/indexing.html#returning-a-view-versus-a-copy\n",
            "  self.obj[key] = _infer_fill_value(value)\n",
            "/usr/local/lib/python3.7/dist-packages/pandas/core/indexing.py:1743: SettingWithCopyWarning: \n",
            "A value is trying to be set on a copy of a slice from a DataFrame.\n",
            "Try using .loc[row_indexer,col_indexer] = value instead\n",
            "\n",
            "See the caveats in the documentation: https://pandas.pydata.org/pandas-docs/stable/user_guide/indexing.html#returning-a-view-versus-a-copy\n",
            "  isetter(ilocs[0], value)\n"
          ]
        }
      ]
    },
    {
      "cell_type": "code",
      "metadata": {
        "colab": {
          "base_uri": "https://localhost:8080/",
          "height": 224
        },
        "id": "_XWyoF-Wpo7k",
        "outputId": "621470aa-12c8-4497-d31a-1196303fef4e"
      },
      "source": [
        "X_test.head()"
      ],
      "execution_count": null,
      "outputs": [
        {
          "output_type": "execute_result",
          "data": {
            "text/html": [
              "<div>\n",
              "<style scoped>\n",
              "    .dataframe tbody tr th:only-of-type {\n",
              "        vertical-align: middle;\n",
              "    }\n",
              "\n",
              "    .dataframe tbody tr th {\n",
              "        vertical-align: top;\n",
              "    }\n",
              "\n",
              "    .dataframe thead th {\n",
              "        text-align: right;\n",
              "    }\n",
              "</style>\n",
              "<table border=\"1\" class=\"dataframe\">\n",
              "  <thead>\n",
              "    <tr style=\"text-align: right;\">\n",
              "      <th></th>\n",
              "      <th>person_age</th>\n",
              "      <th>person_income</th>\n",
              "      <th>person_home_ownership</th>\n",
              "      <th>person_emp_length</th>\n",
              "      <th>loan_intent</th>\n",
              "      <th>loan_grade</th>\n",
              "      <th>loan_amnt</th>\n",
              "      <th>loan_int_rate</th>\n",
              "      <th>loan_percent_income</th>\n",
              "      <th>cb_person_default_on_file</th>\n",
              "      <th>cb_person_cred_hist_length</th>\n",
              "      <th>loan_status</th>\n",
              "      <th>score_proba</th>\n",
              "    </tr>\n",
              "  </thead>\n",
              "  <tbody>\n",
              "    <tr>\n",
              "      <th>6179</th>\n",
              "      <td>24</td>\n",
              "      <td>25200</td>\n",
              "      <td>RENT</td>\n",
              "      <td>6.0</td>\n",
              "      <td>MEDICAL</td>\n",
              "      <td>A</td>\n",
              "      <td>6000</td>\n",
              "      <td>7.49</td>\n",
              "      <td>0.24</td>\n",
              "      <td>N</td>\n",
              "      <td>2</td>\n",
              "      <td>0</td>\n",
              "      <td>0.353615</td>\n",
              "    </tr>\n",
              "    <tr>\n",
              "      <th>26548</th>\n",
              "      <td>30</td>\n",
              "      <td>105000</td>\n",
              "      <td>MORTGAGE</td>\n",
              "      <td>5.0</td>\n",
              "      <td>EDUCATION</td>\n",
              "      <td>B</td>\n",
              "      <td>20000</td>\n",
              "      <td>11.83</td>\n",
              "      <td>0.19</td>\n",
              "      <td>N</td>\n",
              "      <td>5</td>\n",
              "      <td>0</td>\n",
              "      <td>0.025094</td>\n",
              "    </tr>\n",
              "    <tr>\n",
              "      <th>108</th>\n",
              "      <td>24</td>\n",
              "      <td>41000</td>\n",
              "      <td>RENT</td>\n",
              "      <td>2.0</td>\n",
              "      <td>HOMEIMPROVEMENT</td>\n",
              "      <td>D</td>\n",
              "      <td>25000</td>\n",
              "      <td>NaN</td>\n",
              "      <td>0.61</td>\n",
              "      <td>N</td>\n",
              "      <td>3</td>\n",
              "      <td>1</td>\n",
              "      <td>0.995014</td>\n",
              "    </tr>\n",
              "    <tr>\n",
              "      <th>9230</th>\n",
              "      <td>22</td>\n",
              "      <td>22800</td>\n",
              "      <td>RENT</td>\n",
              "      <td>4.0</td>\n",
              "      <td>EDUCATION</td>\n",
              "      <td>C</td>\n",
              "      <td>5000</td>\n",
              "      <td>13.85</td>\n",
              "      <td>0.22</td>\n",
              "      <td>Y</td>\n",
              "      <td>2</td>\n",
              "      <td>0</td>\n",
              "      <td>0.354700</td>\n",
              "    </tr>\n",
              "    <tr>\n",
              "      <th>5638</th>\n",
              "      <td>23</td>\n",
              "      <td>90000</td>\n",
              "      <td>RENT</td>\n",
              "      <td>7.0</td>\n",
              "      <td>MEDICAL</td>\n",
              "      <td>C</td>\n",
              "      <td>5000</td>\n",
              "      <td>15.96</td>\n",
              "      <td>0.06</td>\n",
              "      <td>Y</td>\n",
              "      <td>3</td>\n",
              "      <td>0</td>\n",
              "      <td>0.142213</td>\n",
              "    </tr>\n",
              "  </tbody>\n",
              "</table>\n",
              "</div>"
            ],
            "text/plain": [
              "       person_age  person_income person_home_ownership  person_emp_length  \\\n",
              "6179           24          25200                  RENT                6.0   \n",
              "26548          30         105000              MORTGAGE                5.0   \n",
              "108            24          41000                  RENT                2.0   \n",
              "9230           22          22800                  RENT                4.0   \n",
              "5638           23          90000                  RENT                7.0   \n",
              "\n",
              "           loan_intent loan_grade  loan_amnt  loan_int_rate  \\\n",
              "6179           MEDICAL          A       6000           7.49   \n",
              "26548        EDUCATION          B      20000          11.83   \n",
              "108    HOMEIMPROVEMENT          D      25000            NaN   \n",
              "9230         EDUCATION          C       5000          13.85   \n",
              "5638           MEDICAL          C       5000          15.96   \n",
              "\n",
              "       loan_percent_income cb_person_default_on_file  \\\n",
              "6179                  0.24                         N   \n",
              "26548                 0.19                         N   \n",
              "108                   0.61                         N   \n",
              "9230                  0.22                         Y   \n",
              "5638                  0.06                         Y   \n",
              "\n",
              "       cb_person_cred_hist_length  loan_status  score_proba  \n",
              "6179                            2            0     0.353615  \n",
              "26548                           5            0     0.025094  \n",
              "108                             3            1     0.995014  \n",
              "9230                            2            0     0.354700  \n",
              "5638                            3            0     0.142213  "
            ]
          },
          "metadata": {},
          "execution_count": 96
        }
      ]
    },
    {
      "cell_type": "markdown",
      "metadata": {
        "id": "okhDbJg6po7l"
      },
      "source": [
        "## Save Your Model"
      ]
    },
    {
      "cell_type": "code",
      "metadata": {
        "id": "IW6Z36mxpo7q"
      },
      "source": [
        "import pickle \n",
        "\n",
        "\n",
        "MODELNAME = 'M-LR-1.0.0.pkl'\n",
        "PREPROCESSNAME = 'FE-SC-IMP-OHE-1.0.0.pkl'\n",
        "\n",
        "final_model = clf.best_estimator_.named_steps['model']\n",
        "final_pipe = clf.best_estimator_.named_steps['preprocess']\n",
        "\n",
        "with open(MODELNAME, 'wb') as f: # save model\n",
        "    pickle.dump(final_model, f)\n",
        "    \n",
        "with open(PREPROCESSNAME, 'wb') as f: # save pipeline\n",
        "    pickle.dump(final_pipe, f)"
      ],
      "execution_count": null,
      "outputs": []
    },
    {
      "cell_type": "code",
      "metadata": {
        "id": "FPJZ5V5jpo7r"
      },
      "source": [
        "X_train.to_csv('train.csv')\n",
        "X_test.to_csv('test.csv')"
      ],
      "execution_count": null,
      "outputs": []
    },
    {
      "cell_type": "code",
      "metadata": {
        "colab": {
          "base_uri": "https://localhost:8080/",
          "height": 903
        },
        "id": "XN05ImCCpo7s",
        "outputId": "a6ffce14-aad9-4661-b65a-814d724c622d"
      },
      "source": [
        "pd.DataFrame(clf.cv_results_)"
      ],
      "execution_count": null,
      "outputs": [
        {
          "output_type": "execute_result",
          "data": {
            "text/html": [
              "<div>\n",
              "<style scoped>\n",
              "    .dataframe tbody tr th:only-of-type {\n",
              "        vertical-align: middle;\n",
              "    }\n",
              "\n",
              "    .dataframe tbody tr th {\n",
              "        vertical-align: top;\n",
              "    }\n",
              "\n",
              "    .dataframe thead th {\n",
              "        text-align: right;\n",
              "    }\n",
              "</style>\n",
              "<table border=\"1\" class=\"dataframe\">\n",
              "  <thead>\n",
              "    <tr style=\"text-align: right;\">\n",
              "      <th></th>\n",
              "      <th>mean_fit_time</th>\n",
              "      <th>std_fit_time</th>\n",
              "      <th>mean_score_time</th>\n",
              "      <th>std_score_time</th>\n",
              "      <th>param_model__C</th>\n",
              "      <th>param_model__max_iter</th>\n",
              "      <th>param_model__random_state</th>\n",
              "      <th>params</th>\n",
              "      <th>split0_test_score</th>\n",
              "      <th>split1_test_score</th>\n",
              "      <th>split2_test_score</th>\n",
              "      <th>split3_test_score</th>\n",
              "      <th>split4_test_score</th>\n",
              "      <th>mean_test_score</th>\n",
              "      <th>std_test_score</th>\n",
              "      <th>rank_test_score</th>\n",
              "    </tr>\n",
              "  </thead>\n",
              "  <tbody>\n",
              "    <tr>\n",
              "      <th>0</th>\n",
              "      <td>0.128849</td>\n",
              "      <td>0.007977</td>\n",
              "      <td>0.022389</td>\n",
              "      <td>0.002635</td>\n",
              "      <td>0.0001</td>\n",
              "      <td>1000</td>\n",
              "      <td>40</td>\n",
              "      <td>{'model__C': 0.0001, 'model__max_iter': 1000, ...</td>\n",
              "      <td>0.839188</td>\n",
              "      <td>0.817682</td>\n",
              "      <td>0.838768</td>\n",
              "      <td>0.825177</td>\n",
              "      <td>0.831239</td>\n",
              "      <td>0.830411</td>\n",
              "      <td>0.008210</td>\n",
              "      <td>12</td>\n",
              "    </tr>\n",
              "    <tr>\n",
              "      <th>1</th>\n",
              "      <td>0.138047</td>\n",
              "      <td>0.007880</td>\n",
              "      <td>0.022809</td>\n",
              "      <td>0.003044</td>\n",
              "      <td>0.001</td>\n",
              "      <td>1000</td>\n",
              "      <td>40</td>\n",
              "      <td>{'model__C': 0.001, 'model__max_iter': 1000, '...</td>\n",
              "      <td>0.857740</td>\n",
              "      <td>0.838539</td>\n",
              "      <td>0.859862</td>\n",
              "      <td>0.845278</td>\n",
              "      <td>0.852284</td>\n",
              "      <td>0.850741</td>\n",
              "      <td>0.007916</td>\n",
              "      <td>11</td>\n",
              "    </tr>\n",
              "    <tr>\n",
              "      <th>2</th>\n",
              "      <td>0.197888</td>\n",
              "      <td>0.007470</td>\n",
              "      <td>0.022388</td>\n",
              "      <td>0.002497</td>\n",
              "      <td>0.01</td>\n",
              "      <td>1000</td>\n",
              "      <td>40</td>\n",
              "      <td>{'model__C': 0.01, 'model__max_iter': 1000, 'm...</td>\n",
              "      <td>0.869060</td>\n",
              "      <td>0.851028</td>\n",
              "      <td>0.873363</td>\n",
              "      <td>0.859838</td>\n",
              "      <td>0.863196</td>\n",
              "      <td>0.863297</td>\n",
              "      <td>0.007708</td>\n",
              "      <td>10</td>\n",
              "    </tr>\n",
              "    <tr>\n",
              "      <th>3</th>\n",
              "      <td>0.291149</td>\n",
              "      <td>0.011845</td>\n",
              "      <td>0.020911</td>\n",
              "      <td>0.000370</td>\n",
              "      <td>0.1</td>\n",
              "      <td>1000</td>\n",
              "      <td>40</td>\n",
              "      <td>{'model__C': 0.1, 'model__max_iter': 1000, 'mo...</td>\n",
              "      <td>0.871985</td>\n",
              "      <td>0.854393</td>\n",
              "      <td>0.876853</td>\n",
              "      <td>0.865554</td>\n",
              "      <td>0.866194</td>\n",
              "      <td>0.866996</td>\n",
              "      <td>0.007531</td>\n",
              "      <td>9</td>\n",
              "    </tr>\n",
              "    <tr>\n",
              "      <th>4</th>\n",
              "      <td>0.401451</td>\n",
              "      <td>0.026466</td>\n",
              "      <td>0.021257</td>\n",
              "      <td>0.000338</td>\n",
              "      <td>2</td>\n",
              "      <td>1000</td>\n",
              "      <td>40</td>\n",
              "      <td>{'model__C': 2, 'model__max_iter': 1000, 'mode...</td>\n",
              "      <td>0.872648</td>\n",
              "      <td>0.855303</td>\n",
              "      <td>0.878353</td>\n",
              "      <td>0.867458</td>\n",
              "      <td>0.868079</td>\n",
              "      <td>0.868368</td>\n",
              "      <td>0.007611</td>\n",
              "      <td>7</td>\n",
              "    </tr>\n",
              "    <tr>\n",
              "      <th>5</th>\n",
              "      <td>0.402091</td>\n",
              "      <td>0.031620</td>\n",
              "      <td>0.021018</td>\n",
              "      <td>0.000487</td>\n",
              "      <td>1</td>\n",
              "      <td>1000</td>\n",
              "      <td>40</td>\n",
              "      <td>{'model__C': 1, 'model__max_iter': 1000, 'mode...</td>\n",
              "      <td>0.872697</td>\n",
              "      <td>0.855331</td>\n",
              "      <td>0.878303</td>\n",
              "      <td>0.867325</td>\n",
              "      <td>0.867992</td>\n",
              "      <td>0.868330</td>\n",
              "      <td>0.007598</td>\n",
              "      <td>8</td>\n",
              "    </tr>\n",
              "    <tr>\n",
              "      <th>6</th>\n",
              "      <td>0.407936</td>\n",
              "      <td>0.038762</td>\n",
              "      <td>0.020793</td>\n",
              "      <td>0.000268</td>\n",
              "      <td>3</td>\n",
              "      <td>1000</td>\n",
              "      <td>40</td>\n",
              "      <td>{'model__C': 3, 'model__max_iter': 1000, 'mode...</td>\n",
              "      <td>0.872601</td>\n",
              "      <td>0.855311</td>\n",
              "      <td>0.878400</td>\n",
              "      <td>0.867471</td>\n",
              "      <td>0.868129</td>\n",
              "      <td>0.868382</td>\n",
              "      <td>0.007614</td>\n",
              "      <td>5</td>\n",
              "    </tr>\n",
              "    <tr>\n",
              "      <th>7</th>\n",
              "      <td>0.420967</td>\n",
              "      <td>0.068867</td>\n",
              "      <td>0.021050</td>\n",
              "      <td>0.000317</td>\n",
              "      <td>4</td>\n",
              "      <td>1000</td>\n",
              "      <td>40</td>\n",
              "      <td>{'model__C': 4, 'model__max_iter': 1000, 'mode...</td>\n",
              "      <td>0.872567</td>\n",
              "      <td>0.855309</td>\n",
              "      <td>0.878411</td>\n",
              "      <td>0.867470</td>\n",
              "      <td>0.868143</td>\n",
              "      <td>0.868380</td>\n",
              "      <td>0.007615</td>\n",
              "      <td>6</td>\n",
              "    </tr>\n",
              "    <tr>\n",
              "      <th>8</th>\n",
              "      <td>0.404152</td>\n",
              "      <td>0.022932</td>\n",
              "      <td>0.021316</td>\n",
              "      <td>0.000500</td>\n",
              "      <td>5</td>\n",
              "      <td>1000</td>\n",
              "      <td>40</td>\n",
              "      <td>{'model__C': 5, 'model__max_iter': 1000, 'mode...</td>\n",
              "      <td>0.872578</td>\n",
              "      <td>0.855308</td>\n",
              "      <td>0.878421</td>\n",
              "      <td>0.867468</td>\n",
              "      <td>0.868142</td>\n",
              "      <td>0.868383</td>\n",
              "      <td>0.007618</td>\n",
              "      <td>4</td>\n",
              "    </tr>\n",
              "    <tr>\n",
              "      <th>9</th>\n",
              "      <td>0.420510</td>\n",
              "      <td>0.037890</td>\n",
              "      <td>0.021256</td>\n",
              "      <td>0.000271</td>\n",
              "      <td>10</td>\n",
              "      <td>1000</td>\n",
              "      <td>40</td>\n",
              "      <td>{'model__C': 10, 'model__max_iter': 1000, 'mod...</td>\n",
              "      <td>0.872554</td>\n",
              "      <td>0.855306</td>\n",
              "      <td>0.878464</td>\n",
              "      <td>0.867488</td>\n",
              "      <td>0.868182</td>\n",
              "      <td>0.868399</td>\n",
              "      <td>0.007627</td>\n",
              "      <td>1</td>\n",
              "    </tr>\n",
              "    <tr>\n",
              "      <th>10</th>\n",
              "      <td>0.456878</td>\n",
              "      <td>0.052194</td>\n",
              "      <td>0.021185</td>\n",
              "      <td>0.000377</td>\n",
              "      <td>100</td>\n",
              "      <td>1000</td>\n",
              "      <td>40</td>\n",
              "      <td>{'model__C': 100, 'model__max_iter': 1000, 'mo...</td>\n",
              "      <td>0.872504</td>\n",
              "      <td>0.855282</td>\n",
              "      <td>0.878488</td>\n",
              "      <td>0.867527</td>\n",
              "      <td>0.868178</td>\n",
              "      <td>0.868396</td>\n",
              "      <td>0.007636</td>\n",
              "      <td>2</td>\n",
              "    </tr>\n",
              "    <tr>\n",
              "      <th>11</th>\n",
              "      <td>0.508053</td>\n",
              "      <td>0.105887</td>\n",
              "      <td>0.021141</td>\n",
              "      <td>0.000257</td>\n",
              "      <td>1000</td>\n",
              "      <td>1000</td>\n",
              "      <td>40</td>\n",
              "      <td>{'model__C': 1000, 'model__max_iter': 1000, 'm...</td>\n",
              "      <td>0.872500</td>\n",
              "      <td>0.855281</td>\n",
              "      <td>0.878485</td>\n",
              "      <td>0.867524</td>\n",
              "      <td>0.868189</td>\n",
              "      <td>0.868396</td>\n",
              "      <td>0.007635</td>\n",
              "      <td>3</td>\n",
              "    </tr>\n",
              "  </tbody>\n",
              "</table>\n",
              "</div>"
            ],
            "text/plain": [
              "    mean_fit_time  std_fit_time  mean_score_time  std_score_time  \\\n",
              "0        0.128849      0.007977         0.022389        0.002635   \n",
              "1        0.138047      0.007880         0.022809        0.003044   \n",
              "2        0.197888      0.007470         0.022388        0.002497   \n",
              "3        0.291149      0.011845         0.020911        0.000370   \n",
              "4        0.401451      0.026466         0.021257        0.000338   \n",
              "5        0.402091      0.031620         0.021018        0.000487   \n",
              "6        0.407936      0.038762         0.020793        0.000268   \n",
              "7        0.420967      0.068867         0.021050        0.000317   \n",
              "8        0.404152      0.022932         0.021316        0.000500   \n",
              "9        0.420510      0.037890         0.021256        0.000271   \n",
              "10       0.456878      0.052194         0.021185        0.000377   \n",
              "11       0.508053      0.105887         0.021141        0.000257   \n",
              "\n",
              "   param_model__C param_model__max_iter param_model__random_state  \\\n",
              "0          0.0001                  1000                        40   \n",
              "1           0.001                  1000                        40   \n",
              "2            0.01                  1000                        40   \n",
              "3             0.1                  1000                        40   \n",
              "4               2                  1000                        40   \n",
              "5               1                  1000                        40   \n",
              "6               3                  1000                        40   \n",
              "7               4                  1000                        40   \n",
              "8               5                  1000                        40   \n",
              "9              10                  1000                        40   \n",
              "10            100                  1000                        40   \n",
              "11           1000                  1000                        40   \n",
              "\n",
              "                                               params  split0_test_score  \\\n",
              "0   {'model__C': 0.0001, 'model__max_iter': 1000, ...           0.839188   \n",
              "1   {'model__C': 0.001, 'model__max_iter': 1000, '...           0.857740   \n",
              "2   {'model__C': 0.01, 'model__max_iter': 1000, 'm...           0.869060   \n",
              "3   {'model__C': 0.1, 'model__max_iter': 1000, 'mo...           0.871985   \n",
              "4   {'model__C': 2, 'model__max_iter': 1000, 'mode...           0.872648   \n",
              "5   {'model__C': 1, 'model__max_iter': 1000, 'mode...           0.872697   \n",
              "6   {'model__C': 3, 'model__max_iter': 1000, 'mode...           0.872601   \n",
              "7   {'model__C': 4, 'model__max_iter': 1000, 'mode...           0.872567   \n",
              "8   {'model__C': 5, 'model__max_iter': 1000, 'mode...           0.872578   \n",
              "9   {'model__C': 10, 'model__max_iter': 1000, 'mod...           0.872554   \n",
              "10  {'model__C': 100, 'model__max_iter': 1000, 'mo...           0.872504   \n",
              "11  {'model__C': 1000, 'model__max_iter': 1000, 'm...           0.872500   \n",
              "\n",
              "    split1_test_score  split2_test_score  split3_test_score  \\\n",
              "0            0.817682           0.838768           0.825177   \n",
              "1            0.838539           0.859862           0.845278   \n",
              "2            0.851028           0.873363           0.859838   \n",
              "3            0.854393           0.876853           0.865554   \n",
              "4            0.855303           0.878353           0.867458   \n",
              "5            0.855331           0.878303           0.867325   \n",
              "6            0.855311           0.878400           0.867471   \n",
              "7            0.855309           0.878411           0.867470   \n",
              "8            0.855308           0.878421           0.867468   \n",
              "9            0.855306           0.878464           0.867488   \n",
              "10           0.855282           0.878488           0.867527   \n",
              "11           0.855281           0.878485           0.867524   \n",
              "\n",
              "    split4_test_score  mean_test_score  std_test_score  rank_test_score  \n",
              "0            0.831239         0.830411        0.008210               12  \n",
              "1            0.852284         0.850741        0.007916               11  \n",
              "2            0.863196         0.863297        0.007708               10  \n",
              "3            0.866194         0.866996        0.007531                9  \n",
              "4            0.868079         0.868368        0.007611                7  \n",
              "5            0.867992         0.868330        0.007598                8  \n",
              "6            0.868129         0.868382        0.007614                5  \n",
              "7            0.868143         0.868380        0.007615                6  \n",
              "8            0.868142         0.868383        0.007618                4  \n",
              "9            0.868182         0.868399        0.007627                1  \n",
              "10           0.868178         0.868396        0.007636                2  \n",
              "11           0.868189         0.868396        0.007635                3  "
            ]
          },
          "metadata": {},
          "execution_count": 99
        }
      ]
    },
    {
      "cell_type": "markdown",
      "metadata": {
        "id": "vkJ-S1xzpo7s"
      },
      "source": [
        "## **[Optional] feature selection**"
      ]
    },
    {
      "cell_type": "code",
      "metadata": {
        "id": "DMIFkC5Tpo7t"
      },
      "source": [
        "# from sklearn.feature_selection import RFE\n",
        "\n",
        "# lr = LogisticRegression(random_state=SEED)\n",
        "# rfe = RFE(lr, n_features_to_select=7)\n",
        "# rfe.fit(X_train_sc, y_train)"
      ],
      "execution_count": null,
      "outputs": []
    },
    {
      "cell_type": "code",
      "metadata": {
        "id": "MVf0-T3Ppo7u"
      },
      "source": [
        "# X_train_rfe = rfe.transform(X_train_sc)\n",
        "# X_test_rfe = rfe.transform(X_test_sc)"
      ],
      "execution_count": null,
      "outputs": []
    },
    {
      "cell_type": "code",
      "metadata": {
        "id": "caIhkdOlpo7u"
      },
      "source": [
        "# from sklearn.feature_selection import RFE\n",
        "\n",
        "# lr = LogisticRegression(random_state=SEED)\n",
        "# lr.fit(X_train_rfe, y_train)"
      ],
      "execution_count": null,
      "outputs": []
    },
    {
      "cell_type": "code",
      "metadata": {
        "id": "mlWyYFy5po7v"
      },
      "source": [
        "# yhat_train = lr.predict_proba(X_train_rfe)[:, 1]\n",
        "# yhat_test = lr.predict_proba(X_test_rfe)[:, 1]\n",
        "\n",
        "# print(\"ROC-AUC Score Train:\", roc_auc_score(y_train, yhat_train))\n",
        "# print(\"ROC-AUC Score Test:\", roc_auc_score(y_test, yhat_test))"
      ],
      "execution_count": null,
      "outputs": []
    },
    {
      "cell_type": "markdown",
      "metadata": {
        "id": "A4f3k_Nspo7w"
      },
      "source": [
        "## Full implementation (preproecss + feature selection + algorithm selection)"
      ]
    },
    {
      "cell_type": "code",
      "metadata": {
        "id": "T33ccnNqpo7x"
      },
      "source": [
        "# from sklearn.pipeline import Pipeline\n",
        "# from sklearn.neighbors import KNeighborsClassifier\n",
        "# from sklearn.linear_model import LogisticRegression\n",
        "# from sklearn.ensemble import RandomForestClassifier\n",
        "# from sklearn.model_selection import GridSearchCV\n",
        "# from sklearn.feature_selection import SelectKBest, mutual_info_classif"
      ],
      "execution_count": null,
      "outputs": []
    },
    {
      "cell_type": "code",
      "metadata": {
        "id": "KMIExF_Vpo7y"
      },
      "source": [
        "# sc = StandardScaler()\n",
        "# lr = LogisticRegression(random_state=SEED)\n",
        "# rf = RandomForestClassifier(n_estimators=10, random_state=SEED)\n",
        "# rfe = RFE(lr)\n",
        "\n",
        "# pipe = Pipeline([('scaler', StandardScaler()),\n",
        "#                  ('selector', rfe),\n",
        "#                  ('classifier', LogisticRegression(random_state=True))])"
      ],
      "execution_count": null,
      "outputs": []
    },
    {
      "cell_type": "code",
      "metadata": {
        "id": "SkPDrTqWpo7z"
      },
      "source": [
        "# search_space = [\n",
        "#                 {'selector': [RFE(estimator=lr)],\n",
        "#                  'selector__n_features_to_select': [6, 7, 8],\n",
        "#                  'classifier': [LogisticRegression(solver='lbfgs', random_state=SEED)],\n",
        "#                  'classifier__C': [0.001, 0.01, 0.1, 1.0, 10, 1000]},\n",
        "#                 {'selector': [RFE(estimator=rf)],\n",
        "#                  'selector__n_features_to_select': [6, 7, 8],\n",
        "#                  'classifier': [RandomForestClassifier(random_state=SEED)],\n",
        "#                  'classifier__n_estimators': [5, 10, 15, 20],\n",
        "#                  'classifier__max_depth': [2, 3, 4]}\n",
        "# ]"
      ],
      "execution_count": null,
      "outputs": []
    },
    {
      "cell_type": "code",
      "metadata": {
        "id": "W8hQ2R2spo7z"
      },
      "source": [
        "# clf = GridSearchCV(pipe, search_space, cv=5, scoring='roc_auc', verbose=0, return_train_score=True)\n",
        "# clf.fit(X_train[num_columns], y_train)"
      ],
      "execution_count": null,
      "outputs": []
    },
    {
      "cell_type": "code",
      "metadata": {
        "id": "DLVQoLeupo70"
      },
      "source": [
        "# clf.best_params_"
      ],
      "execution_count": null,
      "outputs": []
    },
    {
      "cell_type": "code",
      "metadata": {
        "id": "5GMtKf_ipo71"
      },
      "source": [
        "# clf.best_score_"
      ],
      "execution_count": null,
      "outputs": []
    },
    {
      "cell_type": "code",
      "metadata": {
        "id": "YFTKCb04po72"
      },
      "source": [
        "# yhat_train = clf.predict_proba(X_train[num_columns])[:, 1]\n",
        "# yhat_test = clf.predict_proba(X_test[num_columns])[:, 1]\n",
        "\n",
        "# print(\"ROC-AUC Score Train:\", roc_auc_score(y_train, yhat_train))\n",
        "# print(\"ROC-AUC Score Test:\", roc_auc_score(y_test, yhat_test))"
      ],
      "execution_count": null,
      "outputs": []
    },
    {
      "cell_type": "code",
      "metadata": {
        "id": "THZr73NApo73"
      },
      "source": [
        "# log_result = pd.DataFrame(clf.cv_results_)"
      ],
      "execution_count": null,
      "outputs": []
    },
    {
      "cell_type": "code",
      "metadata": {
        "id": "DgX9ip7_po74"
      },
      "source": [
        "# pd.options.display.max_rows = None\n",
        "# pd.options.display.max_columns = None"
      ],
      "execution_count": null,
      "outputs": []
    },
    {
      "cell_type": "code",
      "metadata": {
        "scrolled": true,
        "id": "OyTtw8kVpo74"
      },
      "source": [
        "# # log_result.to_csv('log-model-development.csv')\n",
        "# log_result"
      ],
      "execution_count": null,
      "outputs": []
    },
    {
      "cell_type": "code",
      "metadata": {
        "id": "JJLvDWnopo75"
      },
      "source": [
        ""
      ],
      "execution_count": null,
      "outputs": []
    }
  ]
}